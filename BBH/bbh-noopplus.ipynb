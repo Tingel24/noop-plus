{
 "cells": [
  {
   "metadata": {
    "ExecuteTime": {
     "end_time": "2025-01-25T13:50:01.823531Z",
     "start_time": "2025-01-25T13:50:01.802928Z"
    }
   },
   "cell_type": "code",
   "source": [
    "%load_ext autoreload\n",
    "%autoreload 2"
   ],
   "id": "d8de73a1d2de4b08",
   "outputs": [
    {
     "name": "stdout",
     "output_type": "stream",
     "text": [
      "The autoreload extension is already loaded. To reload it, use:\n",
      "  %reload_ext autoreload\n"
     ]
    }
   ],
   "execution_count": 2
  },
  {
   "metadata": {
    "ExecuteTime": {
     "end_time": "2025-01-25T13:50:03.229564Z",
     "start_time": "2025-01-25T13:50:02.052273Z"
    }
   },
   "cell_type": "code",
   "source": [
    "# Setup model connection\n",
    "from dotenv import load_dotenv\n",
    "from openai import OpenAI\n",
    "\n",
    "from converter.converter import *\n",
    "\n",
    "load_dotenv(\"../.env\")\n",
    "client = OpenAI(\n",
    "    api_key=os.getenv(\"VLLM_API_KEY\"),\n",
    "    base_url=\"http://134.76.18.30:8086/v1\"\n",
    ")\n",
    "model = \"meta-llama/Llama-3.3-70B-Instruct\""
   ],
   "id": "d9041075d6f9d77e",
   "outputs": [],
   "execution_count": 3
  },
  {
   "cell_type": "markdown",
   "source": [
    "## Load original dataset"
   ],
   "metadata": {
    "collapsed": false
   },
   "id": "1d57750e572255fe"
  },
  {
   "metadata": {
    "ExecuteTime": {
     "end_time": "2025-01-25T13:50:04.722149Z",
     "start_time": "2025-01-25T13:50:04.708640Z"
    }
   },
   "cell_type": "code",
   "source": [
    "def get_subsets(dataset_name: str) -> list:\n",
    "    import requests\n",
    "    headers = {\"Authorization\": f\"Bearer {os.getenv('HF_TOKEN')}\"}\n",
    "    API_URL = f\"https://datasets-server.huggingface.co/splits?dataset={dataset_name}\"\n",
    "    data = requests.get(API_URL, headers=headers).json()\n",
    "    return [subset[\"config\"] for subset in data[\"splits\"]]"
   ],
   "id": "e0d3ac6463cf3c8f",
   "outputs": [],
   "execution_count": 4
  },
  {
   "metadata": {
    "ExecuteTime": {
     "end_time": "2025-01-25T13:50:07.735291Z",
     "start_time": "2025-01-25T13:50:05.781650Z"
    }
   },
   "cell_type": "code",
   "source": [
    "from pprint import pprint\n",
    "\n",
    "import pandas as pd\n",
    "import spacy\n",
    "from datasets import load_dataset, Dataset, DatasetDict\n",
    "from tqdm import tqdm\n",
    "\n",
    "# Load spaCy for POS tagging\n",
    "nlp = spacy.load(\"en_core_web_sm\")\n",
    "\n",
    "tqdm.pandas()\n",
    "\n",
    "selected_split = \"test\"\n",
    "dataset_name = \"maveriq/bigbenchhard\"\n",
    "modified_dataset_name = \"BBH-NoOp-Plus\"\n",
    "\n",
    "hf_username = \"LFrancis\"\n",
    "repo_id = f\"{hf_username}/{modified_dataset_name}\""
   ],
   "id": "da48ae5c0f3b1307",
   "outputs": [],
   "execution_count": 5
  },
  {
   "metadata": {
    "ExecuteTime": {
     "end_time": "2025-01-25T13:50:44.619348Z",
     "start_time": "2025-01-25T13:50:08.576404Z"
    }
   },
   "cell_type": "code",
   "source": [
    "subsets = get_subsets(dataset_name)\n",
    "\n",
    "\n",
    "def reset_dict():\n",
    "    data_dict = DatasetDict()\n",
    "    for s in subsets:\n",
    "        d = load_dataset(dataset_name, s)[\"train\"]\n",
    "        df = pd.DataFrame(d)\n",
    "        data_dict[s] = Dataset.from_pandas(df)\n",
    "    return data_dict\n",
    "\n",
    "\n",
    "dataset_dict = reset_dict()\n",
    "dataset_dict"
   ],
   "id": "7b4fe193ef4b75e5",
   "outputs": [
    {
     "data": {
      "text/plain": [
       "DatasetDict({\n",
       "    boolean_expressions: Dataset({\n",
       "        features: ['input', 'target'],\n",
       "        num_rows: 250\n",
       "    })\n",
       "    causal_judgement: Dataset({\n",
       "        features: ['input', 'target'],\n",
       "        num_rows: 187\n",
       "    })\n",
       "    date_understanding: Dataset({\n",
       "        features: ['input', 'target'],\n",
       "        num_rows: 250\n",
       "    })\n",
       "    disambiguation_qa: Dataset({\n",
       "        features: ['input', 'target'],\n",
       "        num_rows: 250\n",
       "    })\n",
       "    dyck_languages: Dataset({\n",
       "        features: ['input', 'target'],\n",
       "        num_rows: 250\n",
       "    })\n",
       "    formal_fallacies: Dataset({\n",
       "        features: ['input', 'target'],\n",
       "        num_rows: 250\n",
       "    })\n",
       "    geometric_shapes: Dataset({\n",
       "        features: ['input', 'target'],\n",
       "        num_rows: 250\n",
       "    })\n",
       "    hyperbaton: Dataset({\n",
       "        features: ['input', 'target'],\n",
       "        num_rows: 250\n",
       "    })\n",
       "    logical_deduction_five_objects: Dataset({\n",
       "        features: ['input', 'target'],\n",
       "        num_rows: 250\n",
       "    })\n",
       "    logical_deduction_seven_objects: Dataset({\n",
       "        features: ['input', 'target'],\n",
       "        num_rows: 250\n",
       "    })\n",
       "    logical_deduction_three_objects: Dataset({\n",
       "        features: ['input', 'target'],\n",
       "        num_rows: 250\n",
       "    })\n",
       "    movie_recommendation: Dataset({\n",
       "        features: ['input', 'target'],\n",
       "        num_rows: 250\n",
       "    })\n",
       "    multistep_arithmetic_two: Dataset({\n",
       "        features: ['input', 'target'],\n",
       "        num_rows: 250\n",
       "    })\n",
       "    navigate: Dataset({\n",
       "        features: ['input', 'target'],\n",
       "        num_rows: 250\n",
       "    })\n",
       "    object_counting: Dataset({\n",
       "        features: ['input', 'target'],\n",
       "        num_rows: 250\n",
       "    })\n",
       "    penguins_in_a_table: Dataset({\n",
       "        features: ['input', 'target'],\n",
       "        num_rows: 146\n",
       "    })\n",
       "    reasoning_about_colored_objects: Dataset({\n",
       "        features: ['input', 'target'],\n",
       "        num_rows: 250\n",
       "    })\n",
       "    ruin_names: Dataset({\n",
       "        features: ['input', 'target'],\n",
       "        num_rows: 250\n",
       "    })\n",
       "    salient_translation_error_detection: Dataset({\n",
       "        features: ['input', 'target'],\n",
       "        num_rows: 250\n",
       "    })\n",
       "    snarks: Dataset({\n",
       "        features: ['input', 'target'],\n",
       "        num_rows: 178\n",
       "    })\n",
       "    sports_understanding: Dataset({\n",
       "        features: ['input', 'target'],\n",
       "        num_rows: 250\n",
       "    })\n",
       "    temporal_sequences: Dataset({\n",
       "        features: ['input', 'target'],\n",
       "        num_rows: 250\n",
       "    })\n",
       "    tracking_shuffled_objects_five_objects: Dataset({\n",
       "        features: ['input', 'target'],\n",
       "        num_rows: 250\n",
       "    })\n",
       "    tracking_shuffled_objects_seven_objects: Dataset({\n",
       "        features: ['input', 'target'],\n",
       "        num_rows: 250\n",
       "    })\n",
       "    tracking_shuffled_objects_three_objects: Dataset({\n",
       "        features: ['input', 'target'],\n",
       "        num_rows: 250\n",
       "    })\n",
       "    web_of_lies: Dataset({\n",
       "        features: ['input', 'target'],\n",
       "        num_rows: 250\n",
       "    })\n",
       "    word_sorting: Dataset({\n",
       "        features: ['input', 'target'],\n",
       "        num_rows: 250\n",
       "    })\n",
       "})"
      ]
     },
     "execution_count": 6,
     "metadata": {},
     "output_type": "execute_result"
    }
   ],
   "execution_count": 6
  },
  {
   "metadata": {
    "collapsed": false
   },
   "cell_type": "markdown",
   "source": "## Paraphrase Type: Naive Addition",
   "id": "e2d4da176f5705ba"
  },
  {
   "metadata": {},
   "cell_type": "code",
   "source": [
    "for subset in subsets:\n",
    "    dataset_dict[subset + \"_naive\"] = convert_naive(pd.DataFrame(dataset_dict[subset]), question_column=\"input\")\n",
    "pprint(list(dataset_dict.keys()))"
   ],
   "id": "2db48b93821d5294",
   "outputs": [],
   "execution_count": null
  },
  {
   "metadata": {},
   "cell_type": "code",
   "source": [
    "upload(dataset_dict, repo_id, subsets)\n",
    "dataset_dict = reset_dict()"
   ],
   "id": "acc9a7a357a4e62f",
   "outputs": [],
   "execution_count": null
  },
  {
   "metadata": {},
   "cell_type": "markdown",
   "source": "## Paraphrase Type: Addition",
   "id": "6f70d4a9110a3bab"
  },
  {
   "metadata": {
    "ExecuteTime": {
     "end_time": "2025-01-25T15:24:45.814087Z",
     "start_time": "2025-01-25T13:53:48.478901Z"
    }
   },
   "cell_type": "code",
   "source": [
    "for subset in subsets:\n",
    "    dataset_dict[subset + \"_addition\"] = convert_additional(pd.DataFrame(dataset_dict[subset]), client, model, nlp,question_column=\"input\")\n",
    "pprint(list(dataset_dict.keys()))"
   ],
   "id": "153c4cdf0b316da4",
   "outputs": [
    {
     "name": "stderr",
     "output_type": "stream",
     "text": [
      "100%|██████████| 250/250 [03:04<00:00,  1.35it/s]\n",
      "100%|██████████| 187/187 [08:38<00:00,  2.77s/it]  \n",
      "100%|██████████| 250/250 [03:14<00:00,  1.29it/s]\n",
      "100%|██████████| 250/250 [03:06<00:00,  1.34it/s]\n",
      "100%|██████████| 250/250 [03:01<00:00,  1.38it/s]\n",
      "100%|██████████| 250/250 [03:30<00:00,  1.19it/s]\n",
      "100%|██████████| 250/250 [02:59<00:00,  1.40it/s]\n",
      "100%|██████████| 250/250 [02:51<00:00,  1.46it/s]\n",
      "100%|██████████| 250/250 [03:30<00:00,  1.19it/s]\n",
      "100%|██████████| 250/250 [03:34<00:00,  1.17it/s]\n",
      "100%|██████████| 250/250 [03:22<00:00,  1.23it/s]\n",
      "100%|██████████| 250/250 [03:26<00:00,  1.21it/s]\n",
      "100%|██████████| 250/250 [03:15<00:00,  1.28it/s]\n",
      "100%|██████████| 250/250 [02:55<00:00,  1.43it/s]\n",
      "100%|██████████| 250/250 [02:44<00:00,  1.52it/s]\n",
      "100%|██████████| 146/146 [02:02<00:00,  1.20it/s]\n",
      "100%|██████████| 250/250 [03:10<00:00,  1.31it/s]\n",
      "100%|██████████| 250/250 [03:19<00:00,  1.25it/s]\n",
      "100%|██████████| 250/250 [03:51<00:00,  1.08it/s]\n",
      "100%|██████████| 178/178 [02:14<00:00,  1.33it/s]\n",
      "100%|██████████| 250/250 [03:11<00:00,  1.31it/s]\n",
      "100%|██████████| 250/250 [03:02<00:00,  1.37it/s]\n",
      "100%|██████████| 250/250 [03:40<00:00,  1.14it/s]\n",
      "100%|██████████| 250/250 [03:38<00:00,  1.14it/s]\n",
      "100%|██████████| 250/250 [03:32<00:00,  1.18it/s]\n",
      "100%|██████████| 250/250 [02:53<00:00,  1.44it/s]\n",
      "100%|██████████| 250/250 [03:08<00:00,  1.33it/s]"
     ]
    },
    {
     "name": "stdout",
     "output_type": "stream",
     "text": [
      "['boolean_expressions',\n",
      " 'causal_judgement',\n",
      " 'date_understanding',\n",
      " 'disambiguation_qa',\n",
      " 'dyck_languages',\n",
      " 'formal_fallacies',\n",
      " 'geometric_shapes',\n",
      " 'hyperbaton',\n",
      " 'logical_deduction_five_objects',\n",
      " 'logical_deduction_seven_objects',\n",
      " 'logical_deduction_three_objects',\n",
      " 'movie_recommendation',\n",
      " 'multistep_arithmetic_two',\n",
      " 'navigate',\n",
      " 'object_counting',\n",
      " 'penguins_in_a_table',\n",
      " 'reasoning_about_colored_objects',\n",
      " 'ruin_names',\n",
      " 'salient_translation_error_detection',\n",
      " 'snarks',\n",
      " 'sports_understanding',\n",
      " 'temporal_sequences',\n",
      " 'tracking_shuffled_objects_five_objects',\n",
      " 'tracking_shuffled_objects_seven_objects',\n",
      " 'tracking_shuffled_objects_three_objects',\n",
      " 'web_of_lies',\n",
      " 'word_sorting',\n",
      " 'boolean_expressions_addition',\n",
      " 'causal_judgement_addition',\n",
      " 'date_understanding_addition',\n",
      " 'disambiguation_qa_addition',\n",
      " 'dyck_languages_addition',\n",
      " 'formal_fallacies_addition',\n",
      " 'geometric_shapes_addition',\n",
      " 'hyperbaton_addition',\n",
      " 'logical_deduction_five_objects_addition',\n",
      " 'logical_deduction_seven_objects_addition',\n",
      " 'logical_deduction_three_objects_addition',\n",
      " 'movie_recommendation_addition',\n",
      " 'multistep_arithmetic_two_addition',\n",
      " 'navigate_addition',\n",
      " 'object_counting_addition',\n",
      " 'penguins_in_a_table_addition',\n",
      " 'reasoning_about_colored_objects_addition',\n",
      " 'ruin_names_addition',\n",
      " 'salient_translation_error_detection_addition',\n",
      " 'snarks_addition',\n",
      " 'sports_understanding_addition',\n",
      " 'temporal_sequences_addition',\n",
      " 'tracking_shuffled_objects_five_objects_addition',\n",
      " 'tracking_shuffled_objects_seven_objects_addition',\n",
      " 'tracking_shuffled_objects_three_objects_addition',\n",
      " 'web_of_lies_addition',\n",
      " 'word_sorting_addition']\n"
     ]
    },
    {
     "name": "stderr",
     "output_type": "stream",
     "text": [
      "\n"
     ]
    }
   ],
   "execution_count": 9
  },
  {
   "metadata": {
    "ExecuteTime": {
     "end_time": "2025-01-25T15:28:47.322851Z",
     "start_time": "2025-01-25T15:27:07.579308Z"
    }
   },
   "cell_type": "code",
   "source": [
    "upload(dataset_dict, repo_id, subsets)\n",
    "dataset_dict = reset_dict()"
   ],
   "id": "bca5666b17c6e3f1",
   "outputs": [
    {
     "name": "stdout",
     "output_type": "stream",
     "text": [
      "Uploading boolean_expressions_addition\n"
     ]
    },
    {
     "data": {
      "text/plain": [
       "Uploading the dataset shards:   0%|          | 0/1 [00:00<?, ?it/s]"
      ],
      "application/vnd.jupyter.widget-view+json": {
       "version_major": 2,
       "version_minor": 0,
       "model_id": "9c1ce8ebe7aa444898f4f6351ae5cb3e"
      }
     },
     "metadata": {},
     "output_type": "display_data"
    },
    {
     "data": {
      "text/plain": [
       "Creating parquet from Arrow format:   0%|          | 0/1 [00:00<?, ?ba/s]"
      ],
      "application/vnd.jupyter.widget-view+json": {
       "version_major": 2,
       "version_minor": 0,
       "model_id": "4cfac196c0e543cfb76f9ef9b3c71b93"
      }
     },
     "metadata": {},
     "output_type": "display_data"
    },
    {
     "name": "stdout",
     "output_type": "stream",
     "text": [
      "Uploading causal_judgement_addition\n"
     ]
    },
    {
     "data": {
      "text/plain": [
       "Uploading the dataset shards:   0%|          | 0/1 [00:00<?, ?it/s]"
      ],
      "application/vnd.jupyter.widget-view+json": {
       "version_major": 2,
       "version_minor": 0,
       "model_id": "b5fa49377d204c17b6e9cd42937714f5"
      }
     },
     "metadata": {},
     "output_type": "display_data"
    },
    {
     "data": {
      "text/plain": [
       "Creating parquet from Arrow format:   0%|          | 0/1 [00:00<?, ?ba/s]"
      ],
      "application/vnd.jupyter.widget-view+json": {
       "version_major": 2,
       "version_minor": 0,
       "model_id": "ac87bbbbe4fe42b0b5c71dc5c7cddd82"
      }
     },
     "metadata": {},
     "output_type": "display_data"
    },
    {
     "data": {
      "text/plain": [
       "README.md:   0%|          | 0.00/67.9k [00:00<?, ?B/s]"
      ],
      "application/vnd.jupyter.widget-view+json": {
       "version_major": 2,
       "version_minor": 0,
       "model_id": "934d5569cb1441458c843109d673755a"
      }
     },
     "metadata": {},
     "output_type": "display_data"
    },
    {
     "name": "stdout",
     "output_type": "stream",
     "text": [
      "Uploading date_understanding_addition\n"
     ]
    },
    {
     "data": {
      "text/plain": [
       "Uploading the dataset shards:   0%|          | 0/1 [00:00<?, ?it/s]"
      ],
      "application/vnd.jupyter.widget-view+json": {
       "version_major": 2,
       "version_minor": 0,
       "model_id": "9d3a3d478a8348298abfc296695f1fb0"
      }
     },
     "metadata": {},
     "output_type": "display_data"
    },
    {
     "data": {
      "text/plain": [
       "Creating parquet from Arrow format:   0%|          | 0/1 [00:00<?, ?ba/s]"
      ],
      "application/vnd.jupyter.widget-view+json": {
       "version_major": 2,
       "version_minor": 0,
       "model_id": "fbb7d92cc8ff41ceb96eefe488218ae3"
      }
     },
     "metadata": {},
     "output_type": "display_data"
    },
    {
     "data": {
      "text/plain": [
       "README.md:   0%|          | 0.00/67.9k [00:00<?, ?B/s]"
      ],
      "application/vnd.jupyter.widget-view+json": {
       "version_major": 2,
       "version_minor": 0,
       "model_id": "9222128d33d04017b74425d9ae88a114"
      }
     },
     "metadata": {},
     "output_type": "display_data"
    },
    {
     "name": "stdout",
     "output_type": "stream",
     "text": [
      "Uploading disambiguation_qa_addition\n"
     ]
    },
    {
     "data": {
      "text/plain": [
       "Uploading the dataset shards:   0%|          | 0/1 [00:00<?, ?it/s]"
      ],
      "application/vnd.jupyter.widget-view+json": {
       "version_major": 2,
       "version_minor": 0,
       "model_id": "5649c962a9e1401794f25b79297dd9e9"
      }
     },
     "metadata": {},
     "output_type": "display_data"
    },
    {
     "data": {
      "text/plain": [
       "Creating parquet from Arrow format:   0%|          | 0/1 [00:00<?, ?ba/s]"
      ],
      "application/vnd.jupyter.widget-view+json": {
       "version_major": 2,
       "version_minor": 0,
       "model_id": "5d06717e158b451c863ae44cb79613c3"
      }
     },
     "metadata": {},
     "output_type": "display_data"
    },
    {
     "data": {
      "text/plain": [
       "README.md:   0%|          | 0.00/67.9k [00:00<?, ?B/s]"
      ],
      "application/vnd.jupyter.widget-view+json": {
       "version_major": 2,
       "version_minor": 0,
       "model_id": "9666e10a88f44ea591ad2bd51354db66"
      }
     },
     "metadata": {},
     "output_type": "display_data"
    },
    {
     "name": "stdout",
     "output_type": "stream",
     "text": [
      "Uploading dyck_languages_addition\n"
     ]
    },
    {
     "data": {
      "text/plain": [
       "Uploading the dataset shards:   0%|          | 0/1 [00:00<?, ?it/s]"
      ],
      "application/vnd.jupyter.widget-view+json": {
       "version_major": 2,
       "version_minor": 0,
       "model_id": "b48dc92f615542f0b2903a0472ccecf6"
      }
     },
     "metadata": {},
     "output_type": "display_data"
    },
    {
     "data": {
      "text/plain": [
       "Creating parquet from Arrow format:   0%|          | 0/1 [00:00<?, ?ba/s]"
      ],
      "application/vnd.jupyter.widget-view+json": {
       "version_major": 2,
       "version_minor": 0,
       "model_id": "54cf9285f03c4675a7262f2a45143b93"
      }
     },
     "metadata": {},
     "output_type": "display_data"
    },
    {
     "data": {
      "text/plain": [
       "README.md:   0%|          | 0.00/67.9k [00:00<?, ?B/s]"
      ],
      "application/vnd.jupyter.widget-view+json": {
       "version_major": 2,
       "version_minor": 0,
       "model_id": "887d5004d6fe4ca98d9c56ae39edea33"
      }
     },
     "metadata": {},
     "output_type": "display_data"
    },
    {
     "name": "stdout",
     "output_type": "stream",
     "text": [
      "Uploading formal_fallacies_addition\n"
     ]
    },
    {
     "data": {
      "text/plain": [
       "Uploading the dataset shards:   0%|          | 0/1 [00:00<?, ?it/s]"
      ],
      "application/vnd.jupyter.widget-view+json": {
       "version_major": 2,
       "version_minor": 0,
       "model_id": "b9bc0a490d64406aae3823a6dccf3afc"
      }
     },
     "metadata": {},
     "output_type": "display_data"
    },
    {
     "data": {
      "text/plain": [
       "Creating parquet from Arrow format:   0%|          | 0/1 [00:00<?, ?ba/s]"
      ],
      "application/vnd.jupyter.widget-view+json": {
       "version_major": 2,
       "version_minor": 0,
       "model_id": "371f7d019cb045a7a48e9c6b77b611cc"
      }
     },
     "metadata": {},
     "output_type": "display_data"
    },
    {
     "data": {
      "text/plain": [
       "README.md:   0%|          | 0.00/67.9k [00:00<?, ?B/s]"
      ],
      "application/vnd.jupyter.widget-view+json": {
       "version_major": 2,
       "version_minor": 0,
       "model_id": "b17d6281b82343039bf03ca1fb952666"
      }
     },
     "metadata": {},
     "output_type": "display_data"
    },
    {
     "name": "stdout",
     "output_type": "stream",
     "text": [
      "Uploading geometric_shapes_addition\n"
     ]
    },
    {
     "data": {
      "text/plain": [
       "Uploading the dataset shards:   0%|          | 0/1 [00:00<?, ?it/s]"
      ],
      "application/vnd.jupyter.widget-view+json": {
       "version_major": 2,
       "version_minor": 0,
       "model_id": "23576c1b88ba46089a1278d0d204c387"
      }
     },
     "metadata": {},
     "output_type": "display_data"
    },
    {
     "data": {
      "text/plain": [
       "Creating parquet from Arrow format:   0%|          | 0/1 [00:00<?, ?ba/s]"
      ],
      "application/vnd.jupyter.widget-view+json": {
       "version_major": 2,
       "version_minor": 0,
       "model_id": "360bad9e5ccf4f8fbac1d1f88d21d77a"
      }
     },
     "metadata": {},
     "output_type": "display_data"
    },
    {
     "data": {
      "text/plain": [
       "README.md:   0%|          | 0.00/67.9k [00:00<?, ?B/s]"
      ],
      "application/vnd.jupyter.widget-view+json": {
       "version_major": 2,
       "version_minor": 0,
       "model_id": "83dd80a002c9467897a87d9100e3bf03"
      }
     },
     "metadata": {},
     "output_type": "display_data"
    },
    {
     "name": "stdout",
     "output_type": "stream",
     "text": [
      "Uploading hyperbaton_addition\n"
     ]
    },
    {
     "data": {
      "text/plain": [
       "Uploading the dataset shards:   0%|          | 0/1 [00:00<?, ?it/s]"
      ],
      "application/vnd.jupyter.widget-view+json": {
       "version_major": 2,
       "version_minor": 0,
       "model_id": "70e4585fc5eb4022b6eda64bd630775c"
      }
     },
     "metadata": {},
     "output_type": "display_data"
    },
    {
     "data": {
      "text/plain": [
       "Creating parquet from Arrow format:   0%|          | 0/1 [00:00<?, ?ba/s]"
      ],
      "application/vnd.jupyter.widget-view+json": {
       "version_major": 2,
       "version_minor": 0,
       "model_id": "decfee14b64849a6862ec51beaff5433"
      }
     },
     "metadata": {},
     "output_type": "display_data"
    },
    {
     "data": {
      "text/plain": [
       "README.md:   0%|          | 0.00/67.9k [00:00<?, ?B/s]"
      ],
      "application/vnd.jupyter.widget-view+json": {
       "version_major": 2,
       "version_minor": 0,
       "model_id": "f660678711bd4c889e9b9f2324896bad"
      }
     },
     "metadata": {},
     "output_type": "display_data"
    },
    {
     "name": "stdout",
     "output_type": "stream",
     "text": [
      "Uploading logical_deduction_five_objects_addition\n"
     ]
    },
    {
     "data": {
      "text/plain": [
       "Uploading the dataset shards:   0%|          | 0/1 [00:00<?, ?it/s]"
      ],
      "application/vnd.jupyter.widget-view+json": {
       "version_major": 2,
       "version_minor": 0,
       "model_id": "77d3a6d43257446ebc51e59dca09647e"
      }
     },
     "metadata": {},
     "output_type": "display_data"
    },
    {
     "data": {
      "text/plain": [
       "Creating parquet from Arrow format:   0%|          | 0/1 [00:00<?, ?ba/s]"
      ],
      "application/vnd.jupyter.widget-view+json": {
       "version_major": 2,
       "version_minor": 0,
       "model_id": "4ede424156954125ae99a6d185d12afd"
      }
     },
     "metadata": {},
     "output_type": "display_data"
    },
    {
     "data": {
      "text/plain": [
       "README.md:   0%|          | 0.00/67.9k [00:00<?, ?B/s]"
      ],
      "application/vnd.jupyter.widget-view+json": {
       "version_major": 2,
       "version_minor": 0,
       "model_id": "f9640e6923d14574b805e98e1998b8a0"
      }
     },
     "metadata": {},
     "output_type": "display_data"
    },
    {
     "name": "stdout",
     "output_type": "stream",
     "text": [
      "Uploading logical_deduction_seven_objects_addition\n"
     ]
    },
    {
     "data": {
      "text/plain": [
       "Uploading the dataset shards:   0%|          | 0/1 [00:00<?, ?it/s]"
      ],
      "application/vnd.jupyter.widget-view+json": {
       "version_major": 2,
       "version_minor": 0,
       "model_id": "dfb89eb7707e4d1b850b3a1019fc4118"
      }
     },
     "metadata": {},
     "output_type": "display_data"
    },
    {
     "data": {
      "text/plain": [
       "Creating parquet from Arrow format:   0%|          | 0/1 [00:00<?, ?ba/s]"
      ],
      "application/vnd.jupyter.widget-view+json": {
       "version_major": 2,
       "version_minor": 0,
       "model_id": "228786fb6691454a950dafa68ad99560"
      }
     },
     "metadata": {},
     "output_type": "display_data"
    },
    {
     "data": {
      "text/plain": [
       "README.md:   0%|          | 0.00/67.9k [00:00<?, ?B/s]"
      ],
      "application/vnd.jupyter.widget-view+json": {
       "version_major": 2,
       "version_minor": 0,
       "model_id": "7e84979d5abf4d72958bba181946209f"
      }
     },
     "metadata": {},
     "output_type": "display_data"
    },
    {
     "name": "stdout",
     "output_type": "stream",
     "text": [
      "Uploading logical_deduction_three_objects_addition\n"
     ]
    },
    {
     "data": {
      "text/plain": [
       "Uploading the dataset shards:   0%|          | 0/1 [00:00<?, ?it/s]"
      ],
      "application/vnd.jupyter.widget-view+json": {
       "version_major": 2,
       "version_minor": 0,
       "model_id": "7cbf20440bf740469ffdf260cc7d1a96"
      }
     },
     "metadata": {},
     "output_type": "display_data"
    },
    {
     "data": {
      "text/plain": [
       "Creating parquet from Arrow format:   0%|          | 0/1 [00:00<?, ?ba/s]"
      ],
      "application/vnd.jupyter.widget-view+json": {
       "version_major": 2,
       "version_minor": 0,
       "model_id": "61e90b3cf485439db185a6af3d27d9a2"
      }
     },
     "metadata": {},
     "output_type": "display_data"
    },
    {
     "data": {
      "text/plain": [
       "README.md:   0%|          | 0.00/67.9k [00:00<?, ?B/s]"
      ],
      "application/vnd.jupyter.widget-view+json": {
       "version_major": 2,
       "version_minor": 0,
       "model_id": "2534977fa5524890b1b26a52c1c4f53c"
      }
     },
     "metadata": {},
     "output_type": "display_data"
    },
    {
     "name": "stdout",
     "output_type": "stream",
     "text": [
      "Uploading movie_recommendation_addition\n"
     ]
    },
    {
     "data": {
      "text/plain": [
       "Uploading the dataset shards:   0%|          | 0/1 [00:00<?, ?it/s]"
      ],
      "application/vnd.jupyter.widget-view+json": {
       "version_major": 2,
       "version_minor": 0,
       "model_id": "48ff707ca5f94ea7a6a89b2392d50535"
      }
     },
     "metadata": {},
     "output_type": "display_data"
    },
    {
     "data": {
      "text/plain": [
       "Creating parquet from Arrow format:   0%|          | 0/1 [00:00<?, ?ba/s]"
      ],
      "application/vnd.jupyter.widget-view+json": {
       "version_major": 2,
       "version_minor": 0,
       "model_id": "87a52177e85d4e929e2e5d900c612ebb"
      }
     },
     "metadata": {},
     "output_type": "display_data"
    },
    {
     "data": {
      "text/plain": [
       "README.md:   0%|          | 0.00/67.9k [00:00<?, ?B/s]"
      ],
      "application/vnd.jupyter.widget-view+json": {
       "version_major": 2,
       "version_minor": 0,
       "model_id": "1527ac8212c0486a9c4219a061ac808c"
      }
     },
     "metadata": {},
     "output_type": "display_data"
    },
    {
     "name": "stdout",
     "output_type": "stream",
     "text": [
      "Uploading multistep_arithmetic_two_addition\n"
     ]
    },
    {
     "data": {
      "text/plain": [
       "Uploading the dataset shards:   0%|          | 0/1 [00:00<?, ?it/s]"
      ],
      "application/vnd.jupyter.widget-view+json": {
       "version_major": 2,
       "version_minor": 0,
       "model_id": "de888713001847e9bdcf07c13232d23d"
      }
     },
     "metadata": {},
     "output_type": "display_data"
    },
    {
     "data": {
      "text/plain": [
       "Creating parquet from Arrow format:   0%|          | 0/1 [00:00<?, ?ba/s]"
      ],
      "application/vnd.jupyter.widget-view+json": {
       "version_major": 2,
       "version_minor": 0,
       "model_id": "36ba25ede9bd4db7ab594640567b2026"
      }
     },
     "metadata": {},
     "output_type": "display_data"
    },
    {
     "data": {
      "text/plain": [
       "README.md:   0%|          | 0.00/67.9k [00:00<?, ?B/s]"
      ],
      "application/vnd.jupyter.widget-view+json": {
       "version_major": 2,
       "version_minor": 0,
       "model_id": "525e1c0ab54648f18d65aaa6be46f50a"
      }
     },
     "metadata": {},
     "output_type": "display_data"
    },
    {
     "name": "stdout",
     "output_type": "stream",
     "text": [
      "Uploading navigate_addition\n"
     ]
    },
    {
     "data": {
      "text/plain": [
       "Uploading the dataset shards:   0%|          | 0/1 [00:00<?, ?it/s]"
      ],
      "application/vnd.jupyter.widget-view+json": {
       "version_major": 2,
       "version_minor": 0,
       "model_id": "b5c0952d18d841c48808834b18414993"
      }
     },
     "metadata": {},
     "output_type": "display_data"
    },
    {
     "data": {
      "text/plain": [
       "Creating parquet from Arrow format:   0%|          | 0/1 [00:00<?, ?ba/s]"
      ],
      "application/vnd.jupyter.widget-view+json": {
       "version_major": 2,
       "version_minor": 0,
       "model_id": "4cbcada8a0e24d67af11a72bbe06c22f"
      }
     },
     "metadata": {},
     "output_type": "display_data"
    },
    {
     "data": {
      "text/plain": [
       "README.md:   0%|          | 0.00/67.9k [00:00<?, ?B/s]"
      ],
      "application/vnd.jupyter.widget-view+json": {
       "version_major": 2,
       "version_minor": 0,
       "model_id": "863ba3bb35194c3186fef56e9b832fd2"
      }
     },
     "metadata": {},
     "output_type": "display_data"
    },
    {
     "name": "stdout",
     "output_type": "stream",
     "text": [
      "Uploading object_counting_addition\n"
     ]
    },
    {
     "data": {
      "text/plain": [
       "Uploading the dataset shards:   0%|          | 0/1 [00:00<?, ?it/s]"
      ],
      "application/vnd.jupyter.widget-view+json": {
       "version_major": 2,
       "version_minor": 0,
       "model_id": "74e7270930e642a98ab89c1ce7a8202c"
      }
     },
     "metadata": {},
     "output_type": "display_data"
    },
    {
     "data": {
      "text/plain": [
       "Creating parquet from Arrow format:   0%|          | 0/1 [00:00<?, ?ba/s]"
      ],
      "application/vnd.jupyter.widget-view+json": {
       "version_major": 2,
       "version_minor": 0,
       "model_id": "abf7028f77274168922a384f7fecba9a"
      }
     },
     "metadata": {},
     "output_type": "display_data"
    },
    {
     "data": {
      "text/plain": [
       "README.md:   0%|          | 0.00/67.9k [00:00<?, ?B/s]"
      ],
      "application/vnd.jupyter.widget-view+json": {
       "version_major": 2,
       "version_minor": 0,
       "model_id": "811af13cf13e405ca3f6831e96e6998e"
      }
     },
     "metadata": {},
     "output_type": "display_data"
    },
    {
     "name": "stdout",
     "output_type": "stream",
     "text": [
      "Uploading penguins_in_a_table_addition\n"
     ]
    },
    {
     "data": {
      "text/plain": [
       "Uploading the dataset shards:   0%|          | 0/1 [00:00<?, ?it/s]"
      ],
      "application/vnd.jupyter.widget-view+json": {
       "version_major": 2,
       "version_minor": 0,
       "model_id": "21240412b38244ac87231c13738f2e0a"
      }
     },
     "metadata": {},
     "output_type": "display_data"
    },
    {
     "data": {
      "text/plain": [
       "Creating parquet from Arrow format:   0%|          | 0/1 [00:00<?, ?ba/s]"
      ],
      "application/vnd.jupyter.widget-view+json": {
       "version_major": 2,
       "version_minor": 0,
       "model_id": "cdcb4aca1ef14239b04a965225bb49f1"
      }
     },
     "metadata": {},
     "output_type": "display_data"
    },
    {
     "data": {
      "text/plain": [
       "README.md:   0%|          | 0.00/67.9k [00:00<?, ?B/s]"
      ],
      "application/vnd.jupyter.widget-view+json": {
       "version_major": 2,
       "version_minor": 0,
       "model_id": "096d93533e954fcf853e2a3730ab058d"
      }
     },
     "metadata": {},
     "output_type": "display_data"
    },
    {
     "name": "stdout",
     "output_type": "stream",
     "text": [
      "Uploading reasoning_about_colored_objects_addition\n"
     ]
    },
    {
     "data": {
      "text/plain": [
       "Uploading the dataset shards:   0%|          | 0/1 [00:00<?, ?it/s]"
      ],
      "application/vnd.jupyter.widget-view+json": {
       "version_major": 2,
       "version_minor": 0,
       "model_id": "34415b6acd044aaf998d75c131c0093b"
      }
     },
     "metadata": {},
     "output_type": "display_data"
    },
    {
     "data": {
      "text/plain": [
       "Creating parquet from Arrow format:   0%|          | 0/1 [00:00<?, ?ba/s]"
      ],
      "application/vnd.jupyter.widget-view+json": {
       "version_major": 2,
       "version_minor": 0,
       "model_id": "8e7cec531e6c4e03b36b5695e6863e40"
      }
     },
     "metadata": {},
     "output_type": "display_data"
    },
    {
     "data": {
      "text/plain": [
       "README.md:   0%|          | 0.00/67.9k [00:00<?, ?B/s]"
      ],
      "application/vnd.jupyter.widget-view+json": {
       "version_major": 2,
       "version_minor": 0,
       "model_id": "27a557c3950f47f48822092b161d4ebe"
      }
     },
     "metadata": {},
     "output_type": "display_data"
    },
    {
     "name": "stdout",
     "output_type": "stream",
     "text": [
      "Uploading ruin_names_addition\n"
     ]
    },
    {
     "data": {
      "text/plain": [
       "Uploading the dataset shards:   0%|          | 0/1 [00:00<?, ?it/s]"
      ],
      "application/vnd.jupyter.widget-view+json": {
       "version_major": 2,
       "version_minor": 0,
       "model_id": "c6dc979afc2142ee90c448897d501608"
      }
     },
     "metadata": {},
     "output_type": "display_data"
    },
    {
     "data": {
      "text/plain": [
       "Creating parquet from Arrow format:   0%|          | 0/1 [00:00<?, ?ba/s]"
      ],
      "application/vnd.jupyter.widget-view+json": {
       "version_major": 2,
       "version_minor": 0,
       "model_id": "c1e7ef4d3a4546b6a359eda704e4d562"
      }
     },
     "metadata": {},
     "output_type": "display_data"
    },
    {
     "data": {
      "text/plain": [
       "README.md:   0%|          | 0.00/67.9k [00:00<?, ?B/s]"
      ],
      "application/vnd.jupyter.widget-view+json": {
       "version_major": 2,
       "version_minor": 0,
       "model_id": "01d6e751453d491992374c3f7faaee24"
      }
     },
     "metadata": {},
     "output_type": "display_data"
    },
    {
     "name": "stdout",
     "output_type": "stream",
     "text": [
      "Uploading salient_translation_error_detection_addition\n"
     ]
    },
    {
     "data": {
      "text/plain": [
       "Uploading the dataset shards:   0%|          | 0/1 [00:00<?, ?it/s]"
      ],
      "application/vnd.jupyter.widget-view+json": {
       "version_major": 2,
       "version_minor": 0,
       "model_id": "cddf0d64caa34ab7bc0e4171cb1b8099"
      }
     },
     "metadata": {},
     "output_type": "display_data"
    },
    {
     "data": {
      "text/plain": [
       "Creating parquet from Arrow format:   0%|          | 0/1 [00:00<?, ?ba/s]"
      ],
      "application/vnd.jupyter.widget-view+json": {
       "version_major": 2,
       "version_minor": 0,
       "model_id": "e82fdaa60d9c43e6a075245ac86d6046"
      }
     },
     "metadata": {},
     "output_type": "display_data"
    },
    {
     "data": {
      "text/plain": [
       "README.md:   0%|          | 0.00/67.9k [00:00<?, ?B/s]"
      ],
      "application/vnd.jupyter.widget-view+json": {
       "version_major": 2,
       "version_minor": 0,
       "model_id": "0918ccdeaf294447a3da8e523b744cc5"
      }
     },
     "metadata": {},
     "output_type": "display_data"
    },
    {
     "name": "stdout",
     "output_type": "stream",
     "text": [
      "Uploading snarks_addition\n"
     ]
    },
    {
     "data": {
      "text/plain": [
       "Uploading the dataset shards:   0%|          | 0/1 [00:00<?, ?it/s]"
      ],
      "application/vnd.jupyter.widget-view+json": {
       "version_major": 2,
       "version_minor": 0,
       "model_id": "c5d60b7dc11b4c28bf76125d4aceb084"
      }
     },
     "metadata": {},
     "output_type": "display_data"
    },
    {
     "data": {
      "text/plain": [
       "Creating parquet from Arrow format:   0%|          | 0/1 [00:00<?, ?ba/s]"
      ],
      "application/vnd.jupyter.widget-view+json": {
       "version_major": 2,
       "version_minor": 0,
       "model_id": "e4ae082e91f447d9b438add78baee47e"
      }
     },
     "metadata": {},
     "output_type": "display_data"
    },
    {
     "data": {
      "text/plain": [
       "README.md:   0%|          | 0.00/67.9k [00:00<?, ?B/s]"
      ],
      "application/vnd.jupyter.widget-view+json": {
       "version_major": 2,
       "version_minor": 0,
       "model_id": "5e499648d2b94b12afedd44c9657ab6e"
      }
     },
     "metadata": {},
     "output_type": "display_data"
    },
    {
     "name": "stdout",
     "output_type": "stream",
     "text": [
      "Uploading sports_understanding_addition\n"
     ]
    },
    {
     "data": {
      "text/plain": [
       "Uploading the dataset shards:   0%|          | 0/1 [00:00<?, ?it/s]"
      ],
      "application/vnd.jupyter.widget-view+json": {
       "version_major": 2,
       "version_minor": 0,
       "model_id": "57ba2504fa1047a3b9e38b336650b42d"
      }
     },
     "metadata": {},
     "output_type": "display_data"
    },
    {
     "data": {
      "text/plain": [
       "Creating parquet from Arrow format:   0%|          | 0/1 [00:00<?, ?ba/s]"
      ],
      "application/vnd.jupyter.widget-view+json": {
       "version_major": 2,
       "version_minor": 0,
       "model_id": "25c5e4a7c59445a687719f36e410d077"
      }
     },
     "metadata": {},
     "output_type": "display_data"
    },
    {
     "data": {
      "text/plain": [
       "README.md:   0%|          | 0.00/67.9k [00:00<?, ?B/s]"
      ],
      "application/vnd.jupyter.widget-view+json": {
       "version_major": 2,
       "version_minor": 0,
       "model_id": "0b95877ea7c74ba4bcf6d5eff1b1c6b0"
      }
     },
     "metadata": {},
     "output_type": "display_data"
    },
    {
     "name": "stdout",
     "output_type": "stream",
     "text": [
      "Uploading temporal_sequences_addition\n"
     ]
    },
    {
     "data": {
      "text/plain": [
       "Uploading the dataset shards:   0%|          | 0/1 [00:00<?, ?it/s]"
      ],
      "application/vnd.jupyter.widget-view+json": {
       "version_major": 2,
       "version_minor": 0,
       "model_id": "8a53dc1ab1ca4204bdfbf3cfb89400cb"
      }
     },
     "metadata": {},
     "output_type": "display_data"
    },
    {
     "data": {
      "text/plain": [
       "Creating parquet from Arrow format:   0%|          | 0/1 [00:00<?, ?ba/s]"
      ],
      "application/vnd.jupyter.widget-view+json": {
       "version_major": 2,
       "version_minor": 0,
       "model_id": "e3287941a3ff445aafce9c29ed569c7b"
      }
     },
     "metadata": {},
     "output_type": "display_data"
    },
    {
     "data": {
      "text/plain": [
       "README.md:   0%|          | 0.00/67.9k [00:00<?, ?B/s]"
      ],
      "application/vnd.jupyter.widget-view+json": {
       "version_major": 2,
       "version_minor": 0,
       "model_id": "a80eff584b3f4a89820ca76ef6b9938e"
      }
     },
     "metadata": {},
     "output_type": "display_data"
    },
    {
     "name": "stdout",
     "output_type": "stream",
     "text": [
      "Uploading tracking_shuffled_objects_five_objects_addition\n"
     ]
    },
    {
     "data": {
      "text/plain": [
       "Uploading the dataset shards:   0%|          | 0/1 [00:00<?, ?it/s]"
      ],
      "application/vnd.jupyter.widget-view+json": {
       "version_major": 2,
       "version_minor": 0,
       "model_id": "29a5d702debc412ba2cae70f5bd0a1a5"
      }
     },
     "metadata": {},
     "output_type": "display_data"
    },
    {
     "data": {
      "text/plain": [
       "Creating parquet from Arrow format:   0%|          | 0/1 [00:00<?, ?ba/s]"
      ],
      "application/vnd.jupyter.widget-view+json": {
       "version_major": 2,
       "version_minor": 0,
       "model_id": "1e0b4d14300a4329a269b162edd650c2"
      }
     },
     "metadata": {},
     "output_type": "display_data"
    },
    {
     "data": {
      "text/plain": [
       "README.md:   0%|          | 0.00/67.9k [00:00<?, ?B/s]"
      ],
      "application/vnd.jupyter.widget-view+json": {
       "version_major": 2,
       "version_minor": 0,
       "model_id": "58b090a686f042a7b96f071621772342"
      }
     },
     "metadata": {},
     "output_type": "display_data"
    },
    {
     "name": "stdout",
     "output_type": "stream",
     "text": [
      "Uploading tracking_shuffled_objects_seven_objects_addition\n"
     ]
    },
    {
     "data": {
      "text/plain": [
       "Uploading the dataset shards:   0%|          | 0/1 [00:00<?, ?it/s]"
      ],
      "application/vnd.jupyter.widget-view+json": {
       "version_major": 2,
       "version_minor": 0,
       "model_id": "bd2c369a8ccc4394945bd5ae6b0cb9c7"
      }
     },
     "metadata": {},
     "output_type": "display_data"
    },
    {
     "data": {
      "text/plain": [
       "Creating parquet from Arrow format:   0%|          | 0/1 [00:00<?, ?ba/s]"
      ],
      "application/vnd.jupyter.widget-view+json": {
       "version_major": 2,
       "version_minor": 0,
       "model_id": "1a5af5ee12504cda8793daf61104b97e"
      }
     },
     "metadata": {},
     "output_type": "display_data"
    },
    {
     "data": {
      "text/plain": [
       "README.md:   0%|          | 0.00/67.9k [00:00<?, ?B/s]"
      ],
      "application/vnd.jupyter.widget-view+json": {
       "version_major": 2,
       "version_minor": 0,
       "model_id": "c9336bd1d2554a76b1ca891362422b04"
      }
     },
     "metadata": {},
     "output_type": "display_data"
    },
    {
     "name": "stdout",
     "output_type": "stream",
     "text": [
      "Uploading tracking_shuffled_objects_three_objects_addition\n"
     ]
    },
    {
     "data": {
      "text/plain": [
       "Uploading the dataset shards:   0%|          | 0/1 [00:00<?, ?it/s]"
      ],
      "application/vnd.jupyter.widget-view+json": {
       "version_major": 2,
       "version_minor": 0,
       "model_id": "90b2fe8f9d044a4c83bb6172277f8f66"
      }
     },
     "metadata": {},
     "output_type": "display_data"
    },
    {
     "data": {
      "text/plain": [
       "Creating parquet from Arrow format:   0%|          | 0/1 [00:00<?, ?ba/s]"
      ],
      "application/vnd.jupyter.widget-view+json": {
       "version_major": 2,
       "version_minor": 0,
       "model_id": "b1284dc00a9844109ed1a5ea6c5d10d6"
      }
     },
     "metadata": {},
     "output_type": "display_data"
    },
    {
     "data": {
      "text/plain": [
       "README.md:   0%|          | 0.00/67.9k [00:00<?, ?B/s]"
      ],
      "application/vnd.jupyter.widget-view+json": {
       "version_major": 2,
       "version_minor": 0,
       "model_id": "4b2ee0143cbe49beaf88a7f846de807b"
      }
     },
     "metadata": {},
     "output_type": "display_data"
    },
    {
     "name": "stdout",
     "output_type": "stream",
     "text": [
      "Uploading web_of_lies_addition\n"
     ]
    },
    {
     "data": {
      "text/plain": [
       "Uploading the dataset shards:   0%|          | 0/1 [00:00<?, ?it/s]"
      ],
      "application/vnd.jupyter.widget-view+json": {
       "version_major": 2,
       "version_minor": 0,
       "model_id": "4d6786119a2f4126940fc139208cea0b"
      }
     },
     "metadata": {},
     "output_type": "display_data"
    },
    {
     "data": {
      "text/plain": [
       "Creating parquet from Arrow format:   0%|          | 0/1 [00:00<?, ?ba/s]"
      ],
      "application/vnd.jupyter.widget-view+json": {
       "version_major": 2,
       "version_minor": 0,
       "model_id": "7891d819c92a45b69cb9b1476094e1bd"
      }
     },
     "metadata": {},
     "output_type": "display_data"
    },
    {
     "data": {
      "text/plain": [
       "README.md:   0%|          | 0.00/67.9k [00:00<?, ?B/s]"
      ],
      "application/vnd.jupyter.widget-view+json": {
       "version_major": 2,
       "version_minor": 0,
       "model_id": "1587b3256bdd4957889b3a8b770c2bfa"
      }
     },
     "metadata": {},
     "output_type": "display_data"
    },
    {
     "name": "stdout",
     "output_type": "stream",
     "text": [
      "Uploading word_sorting_addition\n"
     ]
    },
    {
     "data": {
      "text/plain": [
       "Uploading the dataset shards:   0%|          | 0/1 [00:00<?, ?it/s]"
      ],
      "application/vnd.jupyter.widget-view+json": {
       "version_major": 2,
       "version_minor": 0,
       "model_id": "efe2bc85482f4490b23745e9971fb0fc"
      }
     },
     "metadata": {},
     "output_type": "display_data"
    },
    {
     "data": {
      "text/plain": [
       "Creating parquet from Arrow format:   0%|          | 0/1 [00:00<?, ?ba/s]"
      ],
      "application/vnd.jupyter.widget-view+json": {
       "version_major": 2,
       "version_minor": 0,
       "model_id": "a0783fb4c2e249f79393c0a55da94d6c"
      }
     },
     "metadata": {},
     "output_type": "display_data"
    },
    {
     "data": {
      "text/plain": [
       "README.md:   0%|          | 0.00/67.9k [00:00<?, ?B/s]"
      ],
      "application/vnd.jupyter.widget-view+json": {
       "version_major": 2,
       "version_minor": 0,
       "model_id": "55c51674e73042eeb3f50e1f95428eb6"
      }
     },
     "metadata": {},
     "output_type": "display_data"
    }
   ],
   "execution_count": 10
  },
  {
   "metadata": {},
   "cell_type": "markdown",
   "source": "## Paraphrase Type: Lexicon-Changes\n",
   "id": "3af5f01884e9f923"
  },
  {
   "metadata": {},
   "cell_type": "code",
   "source": [
    "for subset in subsets:\n",
    "    dataset_dict[subset + \"_lexicon\"] = convert_lexicon(pd.DataFrame(dataset_dict[subset]), client, model, nlp,\n",
    "                                                        question_column=\"input\")\n",
    "pprint(list(dataset_dict.keys()))"
   ],
   "id": "d0b5d00a4ba54e62",
   "outputs": [],
   "execution_count": null
  },
  {
   "metadata": {},
   "cell_type": "code",
   "source": [
    "upload(dataset_dict, repo_id, subsets)\n",
    "dataset_dict = reset_dict()"
   ],
   "id": "e4844f39cdde23bd",
   "outputs": [],
   "execution_count": null
  },
  {
   "metadata": {},
   "cell_type": "markdown",
   "source": "## Paraphrase Type: Syntax-Changes\n",
   "id": "9311a162e96e675"
  },
  {
   "metadata": {},
   "cell_type": "code",
   "source": [
    "for subset in subsets:\n",
    "    dataset_dict[subset + \"_syntax\"] = convert_syntax(pd.DataFrame(dataset_dict[subset]), nlp, question_column=\"input\")\n",
    "pprint(list(dataset_dict.keys()))"
   ],
   "id": "5d1018e2aa2bb754",
   "outputs": [],
   "execution_count": null
  },
  {
   "metadata": {},
   "cell_type": "code",
   "source": [
    "upload(dataset_dict, repo_id, subsets)\n",
    "dataset_dict = reset_dict()"
   ],
   "id": "4f75e9dd4f309d4a",
   "outputs": [],
   "execution_count": null
  },
  {
   "metadata": {},
   "cell_type": "markdown",
   "source": "## Paraphrase Type: Typo",
   "id": "e4b7d097f7adfa95"
  },
  {
   "metadata": {},
   "cell_type": "code",
   "source": [
    "for subset in subsets:\n",
    "    dataset_dict[subset + \"_typo\"] = convert_typo(pd.DataFrame(dataset_dict[subset]), question_column=\"input\")\n",
    "pprint(list(dataset_dict.keys()))"
   ],
   "id": "ac4f6bbdc82cb4a9",
   "outputs": [],
   "execution_count": null
  },
  {
   "metadata": {},
   "cell_type": "code",
   "source": [
    "upload(dataset_dict, repo_id, subsets)\n",
    "dataset_dict = reset_dict()"
   ],
   "id": "47cdc8c989f1da43",
   "outputs": [],
   "execution_count": null
  },
  {
   "metadata": {},
   "cell_type": "markdown",
   "source": "## Paraphrase Type: Scramble",
   "id": "7955028e272eacab"
  },
  {
   "metadata": {},
   "cell_type": "code",
   "source": [
    "for subset in subsets:\n",
    "    dataset_dict[subset + \"_scramble\"] = convert_scramble(pd.DataFrame(dataset_dict[subset]), nlp,\n",
    "                                                          question_column=\"input\")\n",
    "pprint(list(dataset_dict.keys()))\n",
    "dataset_dict.keys()"
   ],
   "id": "5fc409391aa0525",
   "outputs": [],
   "execution_count": null
  },
  {
   "metadata": {},
   "cell_type": "code",
   "source": [
    "upload(dataset_dict, repo_id, subsets)\n",
    "dataset_dict = reset_dict()"
   ],
   "id": "9387d1775591252b",
   "outputs": [],
   "execution_count": null
  },
  {
   "metadata": {},
   "cell_type": "code",
   "source": "",
   "id": "a8467eb224a364ef",
   "outputs": [],
   "execution_count": null
  }
 ],
 "metadata": {
  "kernelspec": {
   "display_name": "Python 3",
   "language": "python",
   "name": "python3"
  },
  "language_info": {
   "codemirror_mode": {
    "name": "ipython",
    "version": 2
   },
   "file_extension": ".py",
   "mimetype": "text/x-python",
   "name": "python",
   "nbconvert_exporter": "python",
   "pygments_lexer": "ipython2",
   "version": "2.7.6"
  }
 },
 "nbformat": 4,
 "nbformat_minor": 5
}
