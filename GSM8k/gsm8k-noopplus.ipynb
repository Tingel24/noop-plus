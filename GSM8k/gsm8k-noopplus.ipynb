{
 "cells": [
  {
   "metadata": {
    "ExecuteTime": {
     "end_time": "2025-02-22T10:52:45.326238Z",
     "start_time": "2025-02-22T10:52:45.313294Z"
    }
   },
   "cell_type": "code",
   "source": [
    "%load_ext autoreload\n",
    "%autoreload 2"
   ],
   "id": "d8de73a1d2de4b08",
   "outputs": [],
   "execution_count": 2
  },
  {
   "metadata": {
    "ExecuteTime": {
     "end_time": "2025-02-22T10:52:58.996064Z",
     "start_time": "2025-02-22T10:52:58.958542Z"
    }
   },
   "cell_type": "code",
   "source": [
    "# Setup model connection\n",
    "from dotenv import load_dotenv\n",
    "from openai import OpenAI\n",
    "\n",
    "from converter.converter import *\n",
    "\n",
    "load_dotenv(\"../.env\")\n",
    "client = OpenAI(\n",
    "    api_key=os.getenv(\"VLLM_API_KEY\"),\n",
    "    base_url=\"http://134.76.18.30:8080/v1\"\n",
    ")\n",
    "model = \"meta-llama/Llama-3.3-70B-Instruct\""
   ],
   "id": "d9041075d6f9d77e",
   "outputs": [],
   "execution_count": 4
  },
  {
   "cell_type": "markdown",
   "source": [
    "## Load original dataset"
   ],
   "metadata": {
    "collapsed": false
   },
   "id": "1d57750e572255fe"
  },
  {
   "metadata": {
    "ExecuteTime": {
     "end_time": "2025-02-22T10:53:06.949886Z",
     "start_time": "2025-02-22T10:53:02.959011Z"
    }
   },
   "cell_type": "code",
   "source": [
    "from pprint import pprint\n",
    "\n",
    "import pandas as pd\n",
    "import spacy\n",
    "from datasets import load_dataset, Dataset, DatasetDict\n",
    "from tqdm import tqdm\n",
    "\n",
    "# Load spaCy for POS tagging\n",
    "nlp = spacy.load(\"en_core_web_sm\")\n",
    "\n",
    "tqdm.pandas()\n",
    "\n",
    "selected_split = \"test\"\n",
    "dataset = load_dataset(\"openai/gsm8k\", \"main\")[selected_split]\n",
    "modified_dataset_name = \"GSM8k-NoOp-Plus\"\n",
    "\n",
    "hf_username = \"LFrancis\"\n",
    "repo_id = f\"{hf_username}/{modified_dataset_name}\"\n",
    "\n",
    "df = pd.DataFrame(dataset)\n",
    "df"
   ],
   "id": "da48ae5c0f3b1307",
   "outputs": [
    {
     "data": {
      "text/plain": [
       "                                               question  \\\n",
       "0     Janet’s ducks lay 16 eggs per day. She eats th...   \n",
       "1     A robe takes 2 bolts of blue fiber and half th...   \n",
       "2     Josh decides to try flipping a house.  He buys...   \n",
       "3     James decides to run 3 sprints 3 times a week....   \n",
       "4     Every day, Wendi feeds each of her chickens th...   \n",
       "...                                                 ...   \n",
       "1314  John had a son James when he was 19.  James is...   \n",
       "1315  There are some oranges in a basket. Ana spends...   \n",
       "1316  Mark's car breaks down and he needs to get a n...   \n",
       "1317  Farmer Brown has 20 animals on his farm, all e...   \n",
       "1318  Henry and 3 of his friends order 7 pizzas for ...   \n",
       "\n",
       "                                                 answer  \n",
       "0     Janet sells 16 - 3 - 4 = <<16-3-4=9>>9 duck eg...  \n",
       "1     It takes 2/2=<<2/2=1>>1 bolt of white fiber\\nS...  \n",
       "2     The cost of the house and repairs came out to ...  \n",
       "3     He sprints 3*3=<<3*3=9>>9 times\\nSo he runs 9*...  \n",
       "4     If each chicken eats 3 cups of feed per day, t...  \n",
       "...                                                 ...  \n",
       "1314  Dora is 12-3=<<12-3=9>>9\\nSo James is 9*2=<<9*...  \n",
       "1315  There are 60 minutes in an hour. Ana peels an ...  \n",
       "1316  The discount on the radiator was 400*.8=$<<400...  \n",
       "1317  Let C be the number of chickens.\\nThere are 20...  \n",
       "1318  There are 7*8=<<7*8=56>>56 slices in total.\\nT...  \n",
       "\n",
       "[1319 rows x 2 columns]"
      ],
      "text/html": [
       "<div>\n",
       "<style scoped>\n",
       "    .dataframe tbody tr th:only-of-type {\n",
       "        vertical-align: middle;\n",
       "    }\n",
       "\n",
       "    .dataframe tbody tr th {\n",
       "        vertical-align: top;\n",
       "    }\n",
       "\n",
       "    .dataframe thead th {\n",
       "        text-align: right;\n",
       "    }\n",
       "</style>\n",
       "<table border=\"1\" class=\"dataframe\">\n",
       "  <thead>\n",
       "    <tr style=\"text-align: right;\">\n",
       "      <th></th>\n",
       "      <th>question</th>\n",
       "      <th>answer</th>\n",
       "    </tr>\n",
       "  </thead>\n",
       "  <tbody>\n",
       "    <tr>\n",
       "      <th>0</th>\n",
       "      <td>Janet’s ducks lay 16 eggs per day. She eats th...</td>\n",
       "      <td>Janet sells 16 - 3 - 4 = &lt;&lt;16-3-4=9&gt;&gt;9 duck eg...</td>\n",
       "    </tr>\n",
       "    <tr>\n",
       "      <th>1</th>\n",
       "      <td>A robe takes 2 bolts of blue fiber and half th...</td>\n",
       "      <td>It takes 2/2=&lt;&lt;2/2=1&gt;&gt;1 bolt of white fiber\\nS...</td>\n",
       "    </tr>\n",
       "    <tr>\n",
       "      <th>2</th>\n",
       "      <td>Josh decides to try flipping a house.  He buys...</td>\n",
       "      <td>The cost of the house and repairs came out to ...</td>\n",
       "    </tr>\n",
       "    <tr>\n",
       "      <th>3</th>\n",
       "      <td>James decides to run 3 sprints 3 times a week....</td>\n",
       "      <td>He sprints 3*3=&lt;&lt;3*3=9&gt;&gt;9 times\\nSo he runs 9*...</td>\n",
       "    </tr>\n",
       "    <tr>\n",
       "      <th>4</th>\n",
       "      <td>Every day, Wendi feeds each of her chickens th...</td>\n",
       "      <td>If each chicken eats 3 cups of feed per day, t...</td>\n",
       "    </tr>\n",
       "    <tr>\n",
       "      <th>...</th>\n",
       "      <td>...</td>\n",
       "      <td>...</td>\n",
       "    </tr>\n",
       "    <tr>\n",
       "      <th>1314</th>\n",
       "      <td>John had a son James when he was 19.  James is...</td>\n",
       "      <td>Dora is 12-3=&lt;&lt;12-3=9&gt;&gt;9\\nSo James is 9*2=&lt;&lt;9*...</td>\n",
       "    </tr>\n",
       "    <tr>\n",
       "      <th>1315</th>\n",
       "      <td>There are some oranges in a basket. Ana spends...</td>\n",
       "      <td>There are 60 minutes in an hour. Ana peels an ...</td>\n",
       "    </tr>\n",
       "    <tr>\n",
       "      <th>1316</th>\n",
       "      <td>Mark's car breaks down and he needs to get a n...</td>\n",
       "      <td>The discount on the radiator was 400*.8=$&lt;&lt;400...</td>\n",
       "    </tr>\n",
       "    <tr>\n",
       "      <th>1317</th>\n",
       "      <td>Farmer Brown has 20 animals on his farm, all e...</td>\n",
       "      <td>Let C be the number of chickens.\\nThere are 20...</td>\n",
       "    </tr>\n",
       "    <tr>\n",
       "      <th>1318</th>\n",
       "      <td>Henry and 3 of his friends order 7 pizzas for ...</td>\n",
       "      <td>There are 7*8=&lt;&lt;7*8=56&gt;&gt;56 slices in total.\\nT...</td>\n",
       "    </tr>\n",
       "  </tbody>\n",
       "</table>\n",
       "<p>1319 rows × 2 columns</p>\n",
       "</div>"
      ]
     },
     "execution_count": 5,
     "metadata": {},
     "output_type": "execute_result"
    }
   ],
   "execution_count": 5
  },
  {
   "metadata": {
    "ExecuteTime": {
     "end_time": "2025-02-22T10:53:07.641588Z",
     "start_time": "2025-02-22T10:53:07.600205Z"
    }
   },
   "cell_type": "code",
   "source": [
    "dataset_dict = DatasetDict()\n",
    "dataset_dict[\"main\"] = Dataset.from_pandas(df)\n",
    "dataset_dict"
   ],
   "id": "7b4fe193ef4b75e5",
   "outputs": [
    {
     "data": {
      "text/plain": [
       "DatasetDict({\n",
       "    main: Dataset({\n",
       "        features: ['question', 'answer'],\n",
       "        num_rows: 1319\n",
       "    })\n",
       "})"
      ]
     },
     "execution_count": 6,
     "metadata": {},
     "output_type": "execute_result"
    }
   ],
   "execution_count": 6
  },
  {
   "metadata": {
    "collapsed": false
   },
   "cell_type": "markdown",
   "source": "## Paraphrase Type: Naive Addition",
   "id": "e2d4da176f5705ba"
  },
  {
   "metadata": {},
   "cell_type": "code",
   "source": [
    "dataset_dict[\"main_naive\"] = convert_naive(pd.DataFrame(dataset_dict[\"main\"]))\n",
    "pprint(list(dataset_dict.keys()))"
   ],
   "id": "2db48b93821d5294",
   "outputs": [],
   "execution_count": null
  },
  {
   "metadata": {},
   "cell_type": "code",
   "source": "upload(dataset_dict, repo_id)",
   "id": "acc9a7a357a4e62f",
   "outputs": [],
   "execution_count": null
  },
  {
   "metadata": {},
   "cell_type": "markdown",
   "source": "## Paraphrase Type: Addition",
   "id": "6f70d4a9110a3bab"
  },
  {
   "metadata": {},
   "cell_type": "code",
   "source": [
    "dataset_dict[\"main_addition\"] = convert_additional(pd.DataFrame(dataset_dict[\"main\"]), client, model, nlp)\n",
    "pprint(list(dataset_dict.keys()))"
   ],
   "id": "153c4cdf0b316da4",
   "outputs": [],
   "execution_count": null
  },
  {
   "metadata": {},
   "cell_type": "code",
   "source": "upload(dataset_dict, repo_id)",
   "id": "bca5666b17c6e3f1",
   "outputs": [],
   "execution_count": null
  },
  {
   "metadata": {},
   "cell_type": "markdown",
   "source": "## Paraphrase Type: Lexicon-Changes\n",
   "id": "3af5f01884e9f923"
  },
  {
   "metadata": {},
   "cell_type": "code",
   "source": [
    "dataset_dict[\"main_lexicon\"] = convert_lexicon(pd.DataFrame(dataset_dict[\"main\"]), client, model, nlp)\n",
    "dataset_dict.keys()"
   ],
   "id": "d0b5d00a4ba54e62",
   "outputs": [],
   "execution_count": null
  },
  {
   "metadata": {},
   "cell_type": "code",
   "source": "upload(dataset_dict, repo_id)",
   "id": "e4844f39cdde23bd",
   "outputs": [],
   "execution_count": null
  },
  {
   "metadata": {},
   "cell_type": "markdown",
   "source": "## Paraphrase Type: Syntax-Changes\n",
   "id": "9311a162e96e675"
  },
  {
   "metadata": {},
   "cell_type": "code",
   "source": [
    "dataset_dict[\"main_syntax\"] = convert_syntax(pd.DataFrame(dataset_dict[\"main\"]), nlp)\n",
    "dataset_dict.keys()"
   ],
   "id": "5d1018e2aa2bb754",
   "outputs": [],
   "execution_count": null
  },
  {
   "metadata": {},
   "cell_type": "code",
   "source": "upload(dataset_dict, repo_id)",
   "id": "4f75e9dd4f309d4a",
   "outputs": [],
   "execution_count": null
  },
  {
   "metadata": {},
   "cell_type": "markdown",
   "source": "## Paraphrase Type: Typo",
   "id": "962bfe5611c8575"
  },
  {
   "metadata": {
    "ExecuteTime": {
     "end_time": "2025-02-22T11:16:28.659179Z",
     "start_time": "2025-02-22T11:16:28.573764Z"
    }
   },
   "cell_type": "code",
   "source": [
    "question = pd.DataFrame(dataset_dict[\"main\"])[\"question\"][0]\n",
    "mistype_question(question)"
   ],
   "id": "ab1d72f3ff76a982",
   "outputs": [
    {
     "data": {
      "text/plain": [
       "\"Janet’s ducks lay 16 egg peer day. She eats ghreee for breakfawt every moninng and bakes muffins for her friends every day with four. She sells thr remainser at tge farmwrs' market daily for $2 per resh duck gg. How much i dollars does she maake every day at thee farmers' market?\""
      ]
     },
     "execution_count": 22,
     "metadata": {},
     "output_type": "execute_result"
    }
   ],
   "execution_count": 22
  },
  {
   "metadata": {
    "ExecuteTime": {
     "end_time": "2025-02-22T11:16:32.799845Z",
     "start_time": "2025-02-22T11:16:31.838177Z"
    }
   },
   "cell_type": "code",
   "source": [
    "for typo_type in [\n",
    "    'typo_qwerty',\n",
    "    'typo_doubling',\n",
    "    'typo_deletion',\n",
    "    'typo_hold_down',\n",
    "    'typo_add_random',\n",
    "]:\n",
    "    dataset_dict[\"main_\"+typo_type] = convert_transformation(pd.DataFrame(dataset_dict[\"main\"]), typo_type)\n",
    "\n",
    "dataset_dict.keys()"
   ],
   "id": "109385af5f57a6fa",
   "outputs": [
    {
     "name": "stderr",
     "output_type": "stream",
     "text": [
      "100%|██████████| 1319/1319 [00:00<00:00, 19608.72it/s]\n",
      "100%|██████████| 1319/1319 [00:00<00:00, 28406.68it/s]\n",
      "100%|██████████| 1319/1319 [00:00<00:00, 22282.54it/s]\n",
      "100%|██████████| 1319/1319 [00:00<00:00, 11995.39it/s]\n",
      "100%|██████████| 1319/1319 [00:00<00:00, 14325.93it/s]\n"
     ]
    },
    {
     "data": {
      "text/plain": [
       "dict_keys(['main', 'main_typo_qwerty', 'main_typo_doubling', 'main_typo_deletion', 'main_typo_hold_down', 'main_typo_add_random'])"
      ]
     },
     "execution_count": 23,
     "metadata": {},
     "output_type": "execute_result"
    }
   ],
   "execution_count": 23
  },
  {
   "metadata": {
    "ExecuteTime": {
     "end_time": "2025-02-22T11:16:47.965437Z",
     "start_time": "2025-02-22T11:16:34.959460Z"
    }
   },
   "cell_type": "code",
   "source": "upload(dataset_dict, repo_id)",
   "id": "5fe6dec3c050946e",
   "outputs": [
    {
     "name": "stdout",
     "output_type": "stream",
     "text": [
      "Uploading main\n"
     ]
    },
    {
     "data": {
      "text/plain": [
       "Uploading the dataset shards:   0%|          | 0/1 [00:00<?, ?it/s]"
      ],
      "application/vnd.jupyter.widget-view+json": {
       "version_major": 2,
       "version_minor": 0,
       "model_id": "600d0b9e88594805a3f3b9ea48954344"
      }
     },
     "metadata": {},
     "output_type": "display_data"
    },
    {
     "data": {
      "text/plain": [
       "Creating parquet from Arrow format:   0%|          | 0/2 [00:00<?, ?ba/s]"
      ],
      "application/vnd.jupyter.widget-view+json": {
       "version_major": 2,
       "version_minor": 0,
       "model_id": "dad61a70748e4b9bace26ace0c8d8e08"
      }
     },
     "metadata": {},
     "output_type": "display_data"
    },
    {
     "name": "stderr",
     "output_type": "stream",
     "text": [
      "No files have been modified since last commit. Skipping to prevent empty commit.\n"
     ]
    },
    {
     "name": "stdout",
     "output_type": "stream",
     "text": [
      "Uploading main_typo_qwerty\n"
     ]
    },
    {
     "data": {
      "text/plain": [
       "Uploading the dataset shards:   0%|          | 0/1 [00:00<?, ?it/s]"
      ],
      "application/vnd.jupyter.widget-view+json": {
       "version_major": 2,
       "version_minor": 0,
       "model_id": "7a941e2f3053494db58ac98ed6e642dc"
      }
     },
     "metadata": {},
     "output_type": "display_data"
    },
    {
     "data": {
      "text/plain": [
       "Creating parquet from Arrow format:   0%|          | 0/2 [00:00<?, ?ba/s]"
      ],
      "application/vnd.jupyter.widget-view+json": {
       "version_major": 2,
       "version_minor": 0,
       "model_id": "eb48ae45cbe34a769501c305b0ea1b5f"
      }
     },
     "metadata": {},
     "output_type": "display_data"
    },
    {
     "name": "stdout",
     "output_type": "stream",
     "text": [
      "Uploading main_typo_doubling\n"
     ]
    },
    {
     "data": {
      "text/plain": [
       "Uploading the dataset shards:   0%|          | 0/1 [00:00<?, ?it/s]"
      ],
      "application/vnd.jupyter.widget-view+json": {
       "version_major": 2,
       "version_minor": 0,
       "model_id": "1e7e1c9c33664cfea6e89ae3a548ee58"
      }
     },
     "metadata": {},
     "output_type": "display_data"
    },
    {
     "data": {
      "text/plain": [
       "Creating parquet from Arrow format:   0%|          | 0/2 [00:00<?, ?ba/s]"
      ],
      "application/vnd.jupyter.widget-view+json": {
       "version_major": 2,
       "version_minor": 0,
       "model_id": "2641c7ed5a214f10b1009762109bd00d"
      }
     },
     "metadata": {},
     "output_type": "display_data"
    },
    {
     "data": {
      "text/plain": [
       "README.md:   0%|          | 0.00/3.93k [00:00<?, ?B/s]"
      ],
      "application/vnd.jupyter.widget-view+json": {
       "version_major": 2,
       "version_minor": 0,
       "model_id": "70f559972fbf40ebaa7a577e15637b68"
      }
     },
     "metadata": {},
     "output_type": "display_data"
    },
    {
     "name": "stdout",
     "output_type": "stream",
     "text": [
      "Uploading main_typo_deletion\n"
     ]
    },
    {
     "data": {
      "text/plain": [
       "Uploading the dataset shards:   0%|          | 0/1 [00:00<?, ?it/s]"
      ],
      "application/vnd.jupyter.widget-view+json": {
       "version_major": 2,
       "version_minor": 0,
       "model_id": "c2364972d97f43249271791f179baca3"
      }
     },
     "metadata": {},
     "output_type": "display_data"
    },
    {
     "data": {
      "text/plain": [
       "Creating parquet from Arrow format:   0%|          | 0/2 [00:00<?, ?ba/s]"
      ],
      "application/vnd.jupyter.widget-view+json": {
       "version_major": 2,
       "version_minor": 0,
       "model_id": "594b44606be3453784d570b9c7543c95"
      }
     },
     "metadata": {},
     "output_type": "display_data"
    },
    {
     "data": {
      "text/plain": [
       "README.md:   0%|          | 0.00/3.93k [00:00<?, ?B/s]"
      ],
      "application/vnd.jupyter.widget-view+json": {
       "version_major": 2,
       "version_minor": 0,
       "model_id": "9bd574c8245848709fc23ec18aca9add"
      }
     },
     "metadata": {},
     "output_type": "display_data"
    },
    {
     "name": "stdout",
     "output_type": "stream",
     "text": [
      "Uploading main_typo_hold_down\n"
     ]
    },
    {
     "data": {
      "text/plain": [
       "Uploading the dataset shards:   0%|          | 0/1 [00:00<?, ?it/s]"
      ],
      "application/vnd.jupyter.widget-view+json": {
       "version_major": 2,
       "version_minor": 0,
       "model_id": "23a49f70666b47b4bc99a7211ee30dce"
      }
     },
     "metadata": {},
     "output_type": "display_data"
    },
    {
     "data": {
      "text/plain": [
       "Creating parquet from Arrow format:   0%|          | 0/2 [00:00<?, ?ba/s]"
      ],
      "application/vnd.jupyter.widget-view+json": {
       "version_major": 2,
       "version_minor": 0,
       "model_id": "90c6d1335f9549bd873202caae0809c6"
      }
     },
     "metadata": {},
     "output_type": "display_data"
    },
    {
     "data": {
      "text/plain": [
       "README.md:   0%|          | 0.00/3.93k [00:00<?, ?B/s]"
      ],
      "application/vnd.jupyter.widget-view+json": {
       "version_major": 2,
       "version_minor": 0,
       "model_id": "43993281fb474656aea2b207ca273331"
      }
     },
     "metadata": {},
     "output_type": "display_data"
    },
    {
     "name": "stdout",
     "output_type": "stream",
     "text": [
      "Uploading main_typo_add_random\n"
     ]
    },
    {
     "data": {
      "text/plain": [
       "Uploading the dataset shards:   0%|          | 0/1 [00:00<?, ?it/s]"
      ],
      "application/vnd.jupyter.widget-view+json": {
       "version_major": 2,
       "version_minor": 0,
       "model_id": "19b5dd01ba5d44b4840c5eb1ccb9d224"
      }
     },
     "metadata": {},
     "output_type": "display_data"
    },
    {
     "data": {
      "text/plain": [
       "Creating parquet from Arrow format:   0%|          | 0/2 [00:00<?, ?ba/s]"
      ],
      "application/vnd.jupyter.widget-view+json": {
       "version_major": 2,
       "version_minor": 0,
       "model_id": "f5d46b5fc6134b0388e0471af74edc15"
      }
     },
     "metadata": {},
     "output_type": "display_data"
    },
    {
     "data": {
      "text/plain": [
       "README.md:   0%|          | 0.00/3.93k [00:00<?, ?B/s]"
      ],
      "application/vnd.jupyter.widget-view+json": {
       "version_major": 2,
       "version_minor": 0,
       "model_id": "3895dd76a77f4bbea3b10fd5033f7ea2"
      }
     },
     "metadata": {},
     "output_type": "display_data"
    }
   ],
   "execution_count": 24
  },
  {
   "metadata": {
    "ExecuteTime": {
     "end_time": "2025-02-22T11:16:17.111651Z",
     "start_time": "2025-02-22T11:16:16.231093Z"
    }
   },
   "cell_type": "code",
   "source": "typo_qwerty(\"hello everyone, whats going on\")",
   "id": "5627569a8f4a7eb3",
   "outputs": [
    {
     "data": {
      "text/plain": [
       "'bello eceryone, wyats yoinf on'"
      ]
     },
     "execution_count": 21,
     "metadata": {},
     "output_type": "execute_result"
    }
   ],
   "execution_count": 21
  },
  {
   "metadata": {},
   "cell_type": "markdown",
   "source": "## Paraphrase Type: Scramble",
   "id": "f35271c263da9dd3"
  },
  {
   "metadata": {},
   "cell_type": "code",
   "source": [
    "question = pd.DataFrame(dataset_dict[\"main\"])[\"question\"][0]\n",
    "scramble_question(question)"
   ],
   "id": "3e094b0f38822b3c",
   "outputs": [],
   "execution_count": null
  },
  {
   "metadata": {},
   "cell_type": "code",
   "source": [
    "dataset_dict[\"main_scramble\"] = convert_transformation(pd.DataFrame(dataset_dict[\"main\"]), \"scramble_question\")\n",
    "dataset_dict.keys()"
   ],
   "id": "58c0887988e40cda",
   "outputs": [],
   "execution_count": null
  },
  {
   "metadata": {},
   "cell_type": "code",
   "source": "upload(dataset_dict, repo_id)",
   "id": "320f4deaf5f246ec",
   "outputs": [],
   "execution_count": null
  },
  {
   "metadata": {},
   "cell_type": "code",
   "source": "",
   "id": "109ecb7fa927dab",
   "outputs": [],
   "execution_count": null
  },
  {
   "metadata": {},
   "cell_type": "markdown",
   "source": "",
   "id": "96124b81592743b0"
  }
 ],
 "metadata": {
  "kernelspec": {
   "display_name": "Python 3",
   "language": "python",
   "name": "python3"
  },
  "language_info": {
   "codemirror_mode": {
    "name": "ipython",
    "version": 2
   },
   "file_extension": ".py",
   "mimetype": "text/x-python",
   "name": "python",
   "nbconvert_exporter": "python",
   "pygments_lexer": "ipython2",
   "version": "2.7.6"
  }
 },
 "nbformat": 4,
 "nbformat_minor": 5
}
