{
 "cells": [
  {
   "metadata": {
    "ExecuteTime": {
     "end_time": "2025-02-22T12:52:15.275339Z",
     "start_time": "2025-02-22T12:52:15.199284Z"
    }
   },
   "cell_type": "code",
   "source": [
    "%load_ext autoreload\n",
    "%autoreload 2"
   ],
   "id": "1a91ab279ab049e2",
   "outputs": [
    {
     "name": "stdout",
     "output_type": "stream",
     "text": [
      "The autoreload extension is already loaded. To reload it, use:\n",
      "  %reload_ext autoreload\n"
     ]
    }
   ],
   "execution_count": 39
  },
  {
   "metadata": {
    "ExecuteTime": {
     "end_time": "2025-02-22T13:02:06.561778Z",
     "start_time": "2025-02-22T13:02:03.932104Z"
    }
   },
   "cell_type": "code",
   "source": [
    "import os.path\n",
    "\n",
    "from datasets import load_dataset, load_from_disk\n",
    "from dotenv import load_dotenv\n",
    "\n",
    "load_dotenv(\"../.env\")\n",
    "# Load GSM8k Dataset\n",
    "dataset_name = \"LFrancis/GSM8k-NoOp-Plus\"\n",
    "baseline_dataset_name = \"openai/gsm8k\"\n",
    "subset = \"main_typo_add_random\"\n",
    "dataset = load_dataset(dataset_name, subset)[\"train\"]\n",
    "\n",
    "# VLLM API Configuration\n",
    "BASE_URL = \"http://134.76.18.30:8080/v1/chat/completions\"\n",
    "HEADERS = {\"Content-Type\": \"application/json\", \"Authorization\": \"Bearer \" + os.getenv(\"VLLM_API_KEY\")}\n",
    "MODEL_NAME = \"meta-llama/Llama-3.1-8B-Instruct\"\n",
    "\n",
    "EVALUATED_MODEL_PATH = dataset_name + \"_\" + subset + \"_evaluated_\" + MODEL_NAME\n",
    "BASELINE_MODEL_PATH = baseline_dataset_name + \"_evaluated_\" + MODEL_NAME\n",
    "\n",
    "if not os.path.exists(EVALUATED_MODEL_PATH):\n",
    "    dataset.save_to_disk(EVALUATED_MODEL_PATH)\n",
    "if not os.path.exists(BASELINE_MODEL_PATH):\n",
    "    baseline_dataset = load_dataset(baseline_dataset_name, subset)[\"test\"]\n",
    "    baseline_dataset.save_to_disk(BASELINE_MODEL_PATH)"
   ],
   "id": "62b73412d8b897a7",
   "outputs": [
    {
     "data": {
      "text/plain": [
       "train-00000-of-00001.parquet:   0%|          | 0.00/503k [00:00<?, ?B/s]"
      ],
      "application/vnd.jupyter.widget-view+json": {
       "version_major": 2,
       "version_minor": 0,
       "model_id": "1f508664c07146788f8c21b3eb2cd71d"
      }
     },
     "metadata": {},
     "output_type": "display_data"
    },
    {
     "data": {
      "text/plain": [
       "Generating train split:   0%|          | 0/1319 [00:00<?, ? examples/s]"
      ],
      "application/vnd.jupyter.widget-view+json": {
       "version_major": 2,
       "version_minor": 0,
       "model_id": "b45f0f7b6508415a843a8c38f05b0be4"
      }
     },
     "metadata": {},
     "output_type": "display_data"
    },
    {
     "data": {
      "text/plain": [
       "Saving the dataset (0/1 shards):   0%|          | 0/1319 [00:00<?, ? examples/s]"
      ],
      "application/vnd.jupyter.widget-view+json": {
       "version_major": 2,
       "version_minor": 0,
       "model_id": "957559f4c38e4d5dbc33eca58323b3dc"
      }
     },
     "metadata": {},
     "output_type": "display_data"
    }
   ],
   "execution_count": 56
  },
  {
   "metadata": {
    "ExecuteTime": {
     "end_time": "2025-02-22T13:02:06.608844Z",
     "start_time": "2025-02-22T13:02:06.575305Z"
    }
   },
   "cell_type": "code",
   "source": [
    "import re\n",
    "from datasets import Dataset\n",
    "import requests\n",
    "\n",
    "\n",
    "# Helper Functions\n",
    "def create_chat_messages(question, sys_msg):\n",
    "    \"\"\"\n",
    "    Create a formatted list of chat messages for the chat model.\n",
    "    \"\"\"\n",
    "    user_prompt = f\"{question}\\n\" + \"\\nCalculations:\"\n",
    "    return [\n",
    "        {\"role\": \"system\", \"content\": sys_msg},\n",
    "        {\"role\": \"user\", \"content\": user_prompt}\n",
    "    ]\n",
    "\n",
    "\n",
    "def query_vllm_api(payload):\n",
    "    \"\"\"\n",
    "    Send a query to the VLLM API and return the response.\n",
    "    \"\"\"\n",
    "    response = requests.post(BASE_URL, json=payload, headers=HEADERS, timeout=120)\n",
    "    response.raise_for_status()  # Raise an error for HTTP issues\n",
    "    return response.json()\n",
    "\n",
    "\n",
    "def evaluate_question(entry):\n",
    "    # Step 1: Generate reasoning (CoT) response\n",
    "    sys_msg = \"The following are math questions. Think step by step. State your final answer at the end of your calculations.\"\n",
    "    question = entry[\"question\"]\n",
    "    messages = create_chat_messages(question, sys_msg)\n",
    "\n",
    "    cot_payload = {\n",
    "        \"model\": MODEL_NAME,\n",
    "        \"messages\": messages,\n",
    "        \"max_tokens\": 2000,\n",
    "        \"temperature\": 0.0,\n",
    "    }\n",
    "\n",
    "    cot_response = query_vllm_api(cot_payload)\n",
    "    if \"object\" in cot_response.keys() and cot_response[\"object\"] == \"error\":\n",
    "        raise Exception(cot_response[\"message\"])\n",
    "\n",
    "    cot_text = cot_response[\"choices\"][0][\"message\"][\"content\"].strip()  # Extract CoT reasoning\n",
    "    gen_answer = extract_answer(cot_text)\n",
    "    entry[\"generated_answer\"] = gen_answer\n",
    "    entry[\"generated_cot\"] = cot_text\n",
    "    return entry\n",
    "\n",
    "\n",
    "def extract_answer(gen_answer):\n",
    "    # Remove commas so for example 5,000 becomes 5000\n",
    "    model_resp = gen_answer.replace(\",\", \"\")\n",
    "    # Find the last number\n",
    "    extracted_num = re.findall(r\"-?\\d+\\.?\\d*\", model_resp)[-1]\n",
    "    # Use float to ensure 3.0 and 3 are the same.\n",
    "    return str(float(extracted_num))\n",
    "\n",
    "\n",
    "def is_correct(entry):\n",
    "    \"\"\"\n",
    "    Determines if the choice with the lowest log probability corresponds to the correct answer.\n",
    "\n",
    "    Args:\n",
    "        entry (dict): A dictionary containing the question, choices, answer index, and logprobs.\n",
    "\n",
    "    Returns:\n",
    "        bool: True if the option with the lowest logprob matches the correct answer index, False otherwise.\n",
    "    \"\"\"\n",
    "    # Extract logprobs and the correct answer index\n",
    "    gen_answer = entry['generated_answer']\n",
    "    if gen_answer == \"\":\n",
    "        return False\n",
    "    answer = extract_answer(entry['answer'])\n",
    "\n",
    "    return answer == gen_answer\n",
    "\n",
    "\n",
    "def process_dataset(dataset: Dataset, numproc=1):\n",
    "    \"\"\"\n",
    "    Process the dataset using Dataset.map.\n",
    "    \"\"\"\n",
    "\n",
    "    def process_entry(entry):\n",
    "        if \"generated_answer\" in entry.keys() and not entry[\"generated_answer\"] == \"\":\n",
    "            return entry\n",
    "        try:\n",
    "            return evaluate_question(entry)\n",
    "        except Exception as e:\n",
    "            print(f\"Error processing entry: {entry}, Exception: {e}\")\n",
    "            entry[\"generated_answer\"] = \"\"\n",
    "            entry[\"generated_cot\"] = \"\"\n",
    "            return entry\n",
    "\n",
    "    return dataset.map(process_entry, with_indices=False, num_proc=numproc)"
   ],
   "id": "c60fc0802c475748",
   "outputs": [],
   "execution_count": 57
  },
  {
   "metadata": {
    "ExecuteTime": {
     "end_time": "2025-02-22T13:02:06.627899Z",
     "start_time": "2025-02-22T13:02:06.612551Z"
    }
   },
   "cell_type": "code",
   "source": [
    "def update_dataset(dataset, is_baseline=False):\n",
    "    # Save the updated dataset to a temporary location\n",
    "    temp_path = \"temp\"\n",
    "    dataset.save_to_disk(temp_path)\n",
    "\n",
    "    # Overwrite the original dataset directory\n",
    "    import shutil\n",
    "    original_path = EVALUATED_MODEL_PATH if is_baseline == False else BASELINE_MODEL_PATH\n",
    "\n",
    "    # Remove the old dataset and replace it with the new one\n",
    "    shutil.rmtree(original_path)  # Remove the old dataset directory\n",
    "    shutil.move(temp_path, original_path)"
   ],
   "id": "e0ee2b6c396f28dd",
   "outputs": [],
   "execution_count": 58
  },
  {
   "metadata": {
    "ExecuteTime": {
     "end_time": "2025-02-22T13:03:52.109258Z",
     "start_time": "2025-02-22T13:02:06.635700Z"
    }
   },
   "cell_type": "code",
   "source": [
    "def main(is_continue=False, is_baseline=False, numproc=1):\n",
    "    \"\"\"\n",
    "    Main function to evaluate the dataset asynchronously.\n",
    "    \"\"\"\n",
    "    if is_baseline:\n",
    "        selected_dataset = load_from_disk(BASELINE_MODEL_PATH)\n",
    "    elif is_continue:\n",
    "        selected_dataset = load_from_disk(EVALUATED_MODEL_PATH)\n",
    "    else:\n",
    "        selected_dataset = dataset\n",
    "    # Process the dataset asynchronously\n",
    "    processed_dataset = process_dataset(selected_dataset, numproc)\n",
    "\n",
    "    # Save the updated dataset\n",
    "    update_dataset(processed_dataset, is_baseline)\n",
    "\n",
    "\n",
    "# Run the script\n",
    "main(True, False, 200)"
   ],
   "id": "6c05b4e127512852",
   "outputs": [
    {
     "name": "stderr",
     "output_type": "stream",
     "text": [
      "Python(19896) MallocStackLogging: can't turn off malloc stack logging because it was not enabled.\n",
      "Python(19897) MallocStackLogging: can't turn off malloc stack logging because it was not enabled.\n",
      "Python(19898) MallocStackLogging: can't turn off malloc stack logging because it was not enabled.\n",
      "Python(19899) MallocStackLogging: can't turn off malloc stack logging because it was not enabled.\n",
      "Python(19900) MallocStackLogging: can't turn off malloc stack logging because it was not enabled.\n",
      "Python(19901) MallocStackLogging: can't turn off malloc stack logging because it was not enabled.\n",
      "Python(19902) MallocStackLogging: can't turn off malloc stack logging because it was not enabled.\n",
      "Python(19903) MallocStackLogging: can't turn off malloc stack logging because it was not enabled.\n",
      "Python(19904) MallocStackLogging: can't turn off malloc stack logging because it was not enabled.\n",
      "Python(19905) MallocStackLogging: can't turn off malloc stack logging because it was not enabled.\n",
      "Python(19906) MallocStackLogging: can't turn off malloc stack logging because it was not enabled.\n",
      "Python(19907) MallocStackLogging: can't turn off malloc stack logging because it was not enabled.\n",
      "Python(19908) MallocStackLogging: can't turn off malloc stack logging because it was not enabled.\n",
      "Python(19909) MallocStackLogging: can't turn off malloc stack logging because it was not enabled.\n",
      "Python(19910) MallocStackLogging: can't turn off malloc stack logging because it was not enabled.\n",
      "Python(19911) MallocStackLogging: can't turn off malloc stack logging because it was not enabled.\n",
      "Python(19912) MallocStackLogging: can't turn off malloc stack logging because it was not enabled.\n",
      "Python(19913) MallocStackLogging: can't turn off malloc stack logging because it was not enabled.\n",
      "Python(19914) MallocStackLogging: can't turn off malloc stack logging because it was not enabled.\n",
      "Python(19915) MallocStackLogging: can't turn off malloc stack logging because it was not enabled.\n",
      "Python(19916) MallocStackLogging: can't turn off malloc stack logging because it was not enabled.\n",
      "Python(19917) MallocStackLogging: can't turn off malloc stack logging because it was not enabled.\n",
      "Python(19918) MallocStackLogging: can't turn off malloc stack logging because it was not enabled.\n",
      "Python(19919) MallocStackLogging: can't turn off malloc stack logging because it was not enabled.\n",
      "Python(19920) MallocStackLogging: can't turn off malloc stack logging because it was not enabled.\n",
      "Python(19921) MallocStackLogging: can't turn off malloc stack logging because it was not enabled.\n",
      "Python(19922) MallocStackLogging: can't turn off malloc stack logging because it was not enabled.\n",
      "Python(19923) MallocStackLogging: can't turn off malloc stack logging because it was not enabled.\n",
      "Python(19924) MallocStackLogging: can't turn off malloc stack logging because it was not enabled.\n",
      "Python(19925) MallocStackLogging: can't turn off malloc stack logging because it was not enabled.\n",
      "Python(19926) MallocStackLogging: can't turn off malloc stack logging because it was not enabled.\n",
      "Python(19927) MallocStackLogging: can't turn off malloc stack logging because it was not enabled.\n",
      "Python(19928) MallocStackLogging: can't turn off malloc stack logging because it was not enabled.\n",
      "Python(19929) MallocStackLogging: can't turn off malloc stack logging because it was not enabled.\n",
      "Python(19930) MallocStackLogging: can't turn off malloc stack logging because it was not enabled.\n",
      "Python(19931) MallocStackLogging: can't turn off malloc stack logging because it was not enabled.\n",
      "Python(19932) MallocStackLogging: can't turn off malloc stack logging because it was not enabled.\n",
      "Python(19933) MallocStackLogging: can't turn off malloc stack logging because it was not enabled.\n",
      "Python(19934) MallocStackLogging: can't turn off malloc stack logging because it was not enabled.\n",
      "Python(19935) MallocStackLogging: can't turn off malloc stack logging because it was not enabled.\n",
      "Python(19936) MallocStackLogging: can't turn off malloc stack logging because it was not enabled.\n",
      "Python(19937) MallocStackLogging: can't turn off malloc stack logging because it was not enabled.\n",
      "Python(19938) MallocStackLogging: can't turn off malloc stack logging because it was not enabled.\n",
      "Python(19939) MallocStackLogging: can't turn off malloc stack logging because it was not enabled.\n",
      "Python(19940) MallocStackLogging: can't turn off malloc stack logging because it was not enabled.\n",
      "Python(19941) MallocStackLogging: can't turn off malloc stack logging because it was not enabled.\n",
      "Python(19942) MallocStackLogging: can't turn off malloc stack logging because it was not enabled.\n",
      "Python(19943) MallocStackLogging: can't turn off malloc stack logging because it was not enabled.\n",
      "Python(19944) MallocStackLogging: can't turn off malloc stack logging because it was not enabled.\n",
      "Python(19945) MallocStackLogging: can't turn off malloc stack logging because it was not enabled.\n",
      "Python(19946) MallocStackLogging: can't turn off malloc stack logging because it was not enabled.\n",
      "Python(19947) MallocStackLogging: can't turn off malloc stack logging because it was not enabled.\n",
      "Python(19948) MallocStackLogging: can't turn off malloc stack logging because it was not enabled.\n",
      "Python(19949) MallocStackLogging: can't turn off malloc stack logging because it was not enabled.\n",
      "Python(19950) MallocStackLogging: can't turn off malloc stack logging because it was not enabled.\n",
      "Python(19951) MallocStackLogging: can't turn off malloc stack logging because it was not enabled.\n",
      "Python(19952) MallocStackLogging: can't turn off malloc stack logging because it was not enabled.\n",
      "Python(19953) MallocStackLogging: can't turn off malloc stack logging because it was not enabled.\n",
      "Python(19954) MallocStackLogging: can't turn off malloc stack logging because it was not enabled.\n",
      "Python(19955) MallocStackLogging: can't turn off malloc stack logging because it was not enabled.\n",
      "Python(19956) MallocStackLogging: can't turn off malloc stack logging because it was not enabled.\n",
      "Python(19957) MallocStackLogging: can't turn off malloc stack logging because it was not enabled.\n",
      "Python(19958) MallocStackLogging: can't turn off malloc stack logging because it was not enabled.\n",
      "Python(19959) MallocStackLogging: can't turn off malloc stack logging because it was not enabled.\n",
      "Python(19960) MallocStackLogging: can't turn off malloc stack logging because it was not enabled.\n",
      "Python(19961) MallocStackLogging: can't turn off malloc stack logging because it was not enabled.\n",
      "Python(19962) MallocStackLogging: can't turn off malloc stack logging because it was not enabled.\n",
      "Python(19963) MallocStackLogging: can't turn off malloc stack logging because it was not enabled.\n",
      "Python(19964) MallocStackLogging: can't turn off malloc stack logging because it was not enabled.\n",
      "Python(19965) MallocStackLogging: can't turn off malloc stack logging because it was not enabled.\n",
      "Python(19967) MallocStackLogging: can't turn off malloc stack logging because it was not enabled.\n",
      "Python(19968) MallocStackLogging: can't turn off malloc stack logging because it was not enabled.\n",
      "Python(19969) MallocStackLogging: can't turn off malloc stack logging because it was not enabled.\n",
      "Python(19970) MallocStackLogging: can't turn off malloc stack logging because it was not enabled.\n",
      "Python(19971) MallocStackLogging: can't turn off malloc stack logging because it was not enabled.\n",
      "Python(19972) MallocStackLogging: can't turn off malloc stack logging because it was not enabled.\n",
      "Python(19973) MallocStackLogging: can't turn off malloc stack logging because it was not enabled.\n",
      "Python(19974) MallocStackLogging: can't turn off malloc stack logging because it was not enabled.\n",
      "Python(19975) MallocStackLogging: can't turn off malloc stack logging because it was not enabled.\n",
      "Python(19977) MallocStackLogging: can't turn off malloc stack logging because it was not enabled.\n",
      "Python(19978) MallocStackLogging: can't turn off malloc stack logging because it was not enabled.\n",
      "Python(19979) MallocStackLogging: can't turn off malloc stack logging because it was not enabled.\n",
      "Python(19980) MallocStackLogging: can't turn off malloc stack logging because it was not enabled.\n",
      "Python(19981) MallocStackLogging: can't turn off malloc stack logging because it was not enabled.\n",
      "Python(19982) MallocStackLogging: can't turn off malloc stack logging because it was not enabled.\n",
      "Python(19983) MallocStackLogging: can't turn off malloc stack logging because it was not enabled.\n",
      "Python(19984) MallocStackLogging: can't turn off malloc stack logging because it was not enabled.\n",
      "Python(19985) MallocStackLogging: can't turn off malloc stack logging because it was not enabled.\n",
      "Python(19986) MallocStackLogging: can't turn off malloc stack logging because it was not enabled.\n",
      "Python(19987) MallocStackLogging: can't turn off malloc stack logging because it was not enabled.\n",
      "Python(19988) MallocStackLogging: can't turn off malloc stack logging because it was not enabled.\n",
      "Python(19989) MallocStackLogging: can't turn off malloc stack logging because it was not enabled.\n",
      "Python(19991) MallocStackLogging: can't turn off malloc stack logging because it was not enabled.\n",
      "Python(19992) MallocStackLogging: can't turn off malloc stack logging because it was not enabled.\n",
      "Python(19993) MallocStackLogging: can't turn off malloc stack logging because it was not enabled.\n",
      "Python(19995) MallocStackLogging: can't turn off malloc stack logging because it was not enabled.\n",
      "Python(19996) MallocStackLogging: can't turn off malloc stack logging because it was not enabled.\n",
      "Python(19998) MallocStackLogging: can't turn off malloc stack logging because it was not enabled.\n",
      "Python(19999) MallocStackLogging: can't turn off malloc stack logging because it was not enabled.\n",
      "Python(20000) MallocStackLogging: can't turn off malloc stack logging because it was not enabled.\n",
      "Python(20001) MallocStackLogging: can't turn off malloc stack logging because it was not enabled.\n",
      "Python(20002) MallocStackLogging: can't turn off malloc stack logging because it was not enabled.\n",
      "Python(20003) MallocStackLogging: can't turn off malloc stack logging because it was not enabled.\n",
      "Python(20004) MallocStackLogging: can't turn off malloc stack logging because it was not enabled.\n",
      "Python(20005) MallocStackLogging: can't turn off malloc stack logging because it was not enabled.\n",
      "Python(20006) MallocStackLogging: can't turn off malloc stack logging because it was not enabled.\n",
      "Python(20007) MallocStackLogging: can't turn off malloc stack logging because it was not enabled.\n",
      "Python(20008) MallocStackLogging: can't turn off malloc stack logging because it was not enabled.\n",
      "Python(20009) MallocStackLogging: can't turn off malloc stack logging because it was not enabled.\n",
      "Python(20010) MallocStackLogging: can't turn off malloc stack logging because it was not enabled.\n",
      "Python(20011) MallocStackLogging: can't turn off malloc stack logging because it was not enabled.\n",
      "Python(20012) MallocStackLogging: can't turn off malloc stack logging because it was not enabled.\n",
      "Python(20013) MallocStackLogging: can't turn off malloc stack logging because it was not enabled.\n",
      "Python(20014) MallocStackLogging: can't turn off malloc stack logging because it was not enabled.\n",
      "Python(20015) MallocStackLogging: can't turn off malloc stack logging because it was not enabled.\n",
      "Python(20016) MallocStackLogging: can't turn off malloc stack logging because it was not enabled.\n",
      "Python(20017) MallocStackLogging: can't turn off malloc stack logging because it was not enabled.\n",
      "Python(20018) MallocStackLogging: can't turn off malloc stack logging because it was not enabled.\n",
      "Python(20019) MallocStackLogging: can't turn off malloc stack logging because it was not enabled.\n",
      "Python(20020) MallocStackLogging: can't turn off malloc stack logging because it was not enabled.\n",
      "Python(20021) MallocStackLogging: can't turn off malloc stack logging because it was not enabled.\n",
      "Python(20022) MallocStackLogging: can't turn off malloc stack logging because it was not enabled.\n",
      "Python(20023) MallocStackLogging: can't turn off malloc stack logging because it was not enabled.\n",
      "Python(20025) MallocStackLogging: can't turn off malloc stack logging because it was not enabled.\n",
      "Python(20026) MallocStackLogging: can't turn off malloc stack logging because it was not enabled.\n",
      "Python(20027) MallocStackLogging: can't turn off malloc stack logging because it was not enabled.\n",
      "Python(20028) MallocStackLogging: can't turn off malloc stack logging because it was not enabled.\n",
      "Python(20029) MallocStackLogging: can't turn off malloc stack logging because it was not enabled.\n",
      "Python(20030) MallocStackLogging: can't turn off malloc stack logging because it was not enabled.\n",
      "Python(20031) MallocStackLogging: can't turn off malloc stack logging because it was not enabled.\n",
      "Python(20032) MallocStackLogging: can't turn off malloc stack logging because it was not enabled.\n",
      "Python(20033) MallocStackLogging: can't turn off malloc stack logging because it was not enabled.\n",
      "Python(20034) MallocStackLogging: can't turn off malloc stack logging because it was not enabled.\n",
      "Python(20035) MallocStackLogging: can't turn off malloc stack logging because it was not enabled.\n",
      "Python(20036) MallocStackLogging: can't turn off malloc stack logging because it was not enabled.\n",
      "Python(20037) MallocStackLogging: can't turn off malloc stack logging because it was not enabled.\n",
      "Python(20038) MallocStackLogging: can't turn off malloc stack logging because it was not enabled.\n",
      "Python(20039) MallocStackLogging: can't turn off malloc stack logging because it was not enabled.\n",
      "Python(20040) MallocStackLogging: can't turn off malloc stack logging because it was not enabled.\n",
      "Python(20041) MallocStackLogging: can't turn off malloc stack logging because it was not enabled.\n",
      "Python(20042) MallocStackLogging: can't turn off malloc stack logging because it was not enabled.\n",
      "Python(20043) MallocStackLogging: can't turn off malloc stack logging because it was not enabled.\n",
      "Python(20044) MallocStackLogging: can't turn off malloc stack logging because it was not enabled.\n",
      "Python(20045) MallocStackLogging: can't turn off malloc stack logging because it was not enabled.\n",
      "Python(20046) MallocStackLogging: can't turn off malloc stack logging because it was not enabled.\n",
      "Python(20047) MallocStackLogging: can't turn off malloc stack logging because it was not enabled.\n",
      "Python(20048) MallocStackLogging: can't turn off malloc stack logging because it was not enabled.\n",
      "Python(20049) MallocStackLogging: can't turn off malloc stack logging because it was not enabled.\n",
      "Python(20050) MallocStackLogging: can't turn off malloc stack logging because it was not enabled.\n",
      "Python(20051) MallocStackLogging: can't turn off malloc stack logging because it was not enabled.\n",
      "Python(20052) MallocStackLogging: can't turn off malloc stack logging because it was not enabled.\n",
      "Python(20053) MallocStackLogging: can't turn off malloc stack logging because it was not enabled.\n",
      "Python(20054) MallocStackLogging: can't turn off malloc stack logging because it was not enabled.\n",
      "Python(20055) MallocStackLogging: can't turn off malloc stack logging because it was not enabled.\n",
      "Python(20056) MallocStackLogging: can't turn off malloc stack logging because it was not enabled.\n",
      "Python(20057) MallocStackLogging: can't turn off malloc stack logging because it was not enabled.\n",
      "Python(20058) MallocStackLogging: can't turn off malloc stack logging because it was not enabled.\n",
      "Python(20059) MallocStackLogging: can't turn off malloc stack logging because it was not enabled.\n",
      "Python(20060) MallocStackLogging: can't turn off malloc stack logging because it was not enabled.\n",
      "Python(20061) MallocStackLogging: can't turn off malloc stack logging because it was not enabled.\n",
      "Python(20062) MallocStackLogging: can't turn off malloc stack logging because it was not enabled.\n",
      "Python(20063) MallocStackLogging: can't turn off malloc stack logging because it was not enabled.\n",
      "Python(20064) MallocStackLogging: can't turn off malloc stack logging because it was not enabled.\n",
      "Python(20065) MallocStackLogging: can't turn off malloc stack logging because it was not enabled.\n",
      "Python(20066) MallocStackLogging: can't turn off malloc stack logging because it was not enabled.\n",
      "Python(20067) MallocStackLogging: can't turn off malloc stack logging because it was not enabled.\n",
      "Python(20068) MallocStackLogging: can't turn off malloc stack logging because it was not enabled.\n",
      "Python(20069) MallocStackLogging: can't turn off malloc stack logging because it was not enabled.\n",
      "Python(20070) MallocStackLogging: can't turn off malloc stack logging because it was not enabled.\n",
      "Python(20071) MallocStackLogging: can't turn off malloc stack logging because it was not enabled.\n",
      "Python(20072) MallocStackLogging: can't turn off malloc stack logging because it was not enabled.\n",
      "Python(20073) MallocStackLogging: can't turn off malloc stack logging because it was not enabled.\n",
      "Python(20074) MallocStackLogging: can't turn off malloc stack logging because it was not enabled.\n",
      "Python(20075) MallocStackLogging: can't turn off malloc stack logging because it was not enabled.\n",
      "Python(20076) MallocStackLogging: can't turn off malloc stack logging because it was not enabled.\n",
      "Python(20077) MallocStackLogging: can't turn off malloc stack logging because it was not enabled.\n",
      "Python(20078) MallocStackLogging: can't turn off malloc stack logging because it was not enabled.\n",
      "Python(20079) MallocStackLogging: can't turn off malloc stack logging because it was not enabled.\n",
      "Python(20080) MallocStackLogging: can't turn off malloc stack logging because it was not enabled.\n",
      "Python(20081) MallocStackLogging: can't turn off malloc stack logging because it was not enabled.\n",
      "Python(20082) MallocStackLogging: can't turn off malloc stack logging because it was not enabled.\n",
      "Python(20083) MallocStackLogging: can't turn off malloc stack logging because it was not enabled.\n",
      "Python(20084) MallocStackLogging: can't turn off malloc stack logging because it was not enabled.\n",
      "Python(20085) MallocStackLogging: can't turn off malloc stack logging because it was not enabled.\n",
      "Python(20086) MallocStackLogging: can't turn off malloc stack logging because it was not enabled.\n",
      "Python(20087) MallocStackLogging: can't turn off malloc stack logging because it was not enabled.\n",
      "Python(20088) MallocStackLogging: can't turn off malloc stack logging because it was not enabled.\n",
      "Python(20089) MallocStackLogging: can't turn off malloc stack logging because it was not enabled.\n",
      "Python(20090) MallocStackLogging: can't turn off malloc stack logging because it was not enabled.\n",
      "Python(20091) MallocStackLogging: can't turn off malloc stack logging because it was not enabled.\n",
      "Python(20092) MallocStackLogging: can't turn off malloc stack logging because it was not enabled.\n",
      "Python(20093) MallocStackLogging: can't turn off malloc stack logging because it was not enabled.\n",
      "Python(20094) MallocStackLogging: can't turn off malloc stack logging because it was not enabled.\n",
      "Python(20095) MallocStackLogging: can't turn off malloc stack logging because it was not enabled.\n",
      "Python(20096) MallocStackLogging: can't turn off malloc stack logging because it was not enabled.\n",
      "Python(20097) MallocStackLogging: can't turn off malloc stack logging because it was not enabled.\n",
      "Python(20098) MallocStackLogging: can't turn off malloc stack logging because it was not enabled.\n",
      "Python(20099) MallocStackLogging: can't turn off malloc stack logging because it was not enabled.\n",
      "Python(20100) MallocStackLogging: can't turn off malloc stack logging because it was not enabled.\n",
      "Python(20101) MallocStackLogging: can't turn off malloc stack logging because it was not enabled.\n"
     ]
    },
    {
     "data": {
      "text/plain": [
       "Map (num_proc=200):   0%|          | 0/1319 [00:00<?, ? examples/s]"
      ],
      "application/vnd.jupyter.widget-view+json": {
       "version_major": 2,
       "version_minor": 0,
       "model_id": "ebd8138f27e04157bf20fc0d40003f5f"
      }
     },
     "metadata": {},
     "output_type": "display_data"
    },
    {
     "name": "stderr",
     "output_type": "stream",
     "text": [
      "Python(20102) MallocStackLogging: can't turn off malloc stack logging because it was not enabled.\n"
     ]
    },
    {
     "data": {
      "text/plain": [
       "Saving the dataset (0/1 shards):   0%|          | 0/1319 [00:00<?, ? examples/s]"
      ],
      "application/vnd.jupyter.widget-view+json": {
       "version_major": 2,
       "version_minor": 0,
       "model_id": "d35cb3fccfaa4f02b4473ed60141090a"
      }
     },
     "metadata": {},
     "output_type": "display_data"
    }
   ],
   "execution_count": 59
  },
  {
   "metadata": {
    "ExecuteTime": {
     "end_time": "2025-02-22T13:03:52.505963Z",
     "start_time": "2025-02-22T13:03:52.186427Z"
    }
   },
   "cell_type": "code",
   "source": [
    "from converter.converter import save_value_to_json\n",
    "\n",
    "for ss in [\"typo_qwerty\", 'typo_doubling',\n",
    "    'typo_deletion',\n",
    "    'typo_hold_down',\n",
    "    'typo_add_random',]:\n",
    "    if ss == \"\":\n",
    "        model_path = dataset_name + \"_main\" + \"_evaluated_\" + MODEL_NAME\n",
    "        ss = \"our_baseline\"\n",
    "    else:\n",
    "        model_path = dataset_name + \"_main_\" + ss + \"_evaluated_\" + MODEL_NAME\n",
    "    if os.path.exists(model_path):\n",
    "        selected_dataset = load_from_disk(model_path)\n",
    "        print(model_path)\n",
    "        print(selected_dataset)\n",
    "        score = [is_correct(result) for result in selected_dataset]\n",
    "        score = sum(score) / len(score)\n",
    "        save_value_to_json(ss, score, MODEL_NAME)\n",
    "        print(ss, \"accuracy\", score)\n",
    "    else:\n",
    "        print(\"skipping\", model_path)"
   ],
   "id": "d6511a8a3f86cbc0",
   "outputs": [
    {
     "name": "stdout",
     "output_type": "stream",
     "text": [
      "LFrancis/GSM8k-NoOp-Plus_main_typo_qwerty_evaluated_meta-llama/Llama-3.1-8B-Instruct\n",
      "Dataset({\n",
      "    features: ['question', 'answer', 'generated_answer', 'generated_cot'],\n",
      "    num_rows: 1319\n",
      "})\n",
      "typo_qwerty accuracy 0.49052312357846856\n",
      "LFrancis/GSM8k-NoOp-Plus_main_typo_doubling_evaluated_meta-llama/Llama-3.1-8B-Instruct\n",
      "Dataset({\n",
      "    features: ['question', 'answer', 'generated_answer', 'generated_cot'],\n",
      "    num_rows: 1319\n",
      "})\n",
      "typo_doubling accuracy 0.5094768764215315\n",
      "LFrancis/GSM8k-NoOp-Plus_main_typo_deletion_evaluated_meta-llama/Llama-3.1-8B-Instruct\n",
      "Dataset({\n",
      "    features: ['question', 'answer', 'generated_answer', 'generated_cot'],\n",
      "    num_rows: 1319\n",
      "})\n",
      "typo_deletion accuracy 0.39423805913570886\n",
      "LFrancis/GSM8k-NoOp-Plus_main_typo_hold_down_evaluated_meta-llama/Llama-3.1-8B-Instruct\n",
      "Dataset({\n",
      "    features: ['question', 'answer', 'generated_answer', 'generated_cot'],\n",
      "    num_rows: 1319\n",
      "})\n",
      "typo_hold_down accuracy 0.4746019711902957\n",
      "LFrancis/GSM8k-NoOp-Plus_main_typo_add_random_evaluated_meta-llama/Llama-3.1-8B-Instruct\n",
      "Dataset({\n",
      "    features: ['question', 'answer', 'generated_answer', 'generated_cot'],\n",
      "    num_rows: 1319\n",
      "})\n",
      "typo_add_random accuracy 0.621683093252464\n"
     ]
    }
   ],
   "execution_count": 60
  },
  {
   "metadata": {
    "ExecuteTime": {
     "end_time": "2025-02-22T11:23:52.977331Z",
     "start_time": "2025-02-22T11:23:52.903799Z"
    }
   },
   "cell_type": "code",
   "source": [
    "baseline_dataset = load_from_disk(BASELINE_MODEL_PATH)\n",
    "score = [is_correct(result) for result in baseline_dataset]\n",
    "score = sum(score) / len(score)\n",
    "save_value_to_json(\"baseline\", score, MODEL_NAME)\n",
    "print(\"Baseline Accuracy\", score)"
   ],
   "id": "57d06cdc2ef4c6ad",
   "outputs": [
    {
     "name": "stdout",
     "output_type": "stream",
     "text": [
      "Baseline Accuracy 0.8036391205458681\n"
     ]
    }
   ],
   "execution_count": 31
  },
  {
   "metadata": {
    "ExecuteTime": {
     "end_time": "2025-02-22T11:23:57.287744Z",
     "start_time": "2025-02-22T11:23:57.234109Z"
    }
   },
   "cell_type": "code",
   "source": [
    "selected_dataset = load_from_disk(dataset_name + \"_main_addition_evaluated_\" + MODEL_NAME)\n",
    "selected_dataset[0][\"generated_cot\"]"
   ],
   "id": "47d01683370245ab",
   "outputs": [
    {
     "data": {
      "text/plain": [
       "\"To find out how much Janet makes every day at the farmers' market, we need to calculate the number of eggs she has left after eating and baking, and then multiply that number by the price she sells each egg for.\\n\\n1. Calculate the total number of eggs laid by the ducks per day: \\n   Total eggs per day = 16\\n\\n2. Calculate the number of eggs Janet eats for breakfast:\\n   Eggs eaten for breakfast = 3\\n\\n3. Calculate the number of eggs Janet bakes for her friends:\\n   Eggs baked for friends = 4\\n\\n4. Calculate the total number of eggs Janet uses:\\n   Total eggs used = Eggs eaten for breakfast + Eggs baked for friends\\n   Total eggs used = 3 + 4\\n   Total eggs used = 7\\n\\n5. Calculate the number of eggs Janet has left:\\n   Eggs left = Total eggs per day - Total eggs used\\n   Eggs left = 16 - 7\\n   Eggs left = 9\\n\\n6. Calculate the amount Janet makes by selling the eggs:\\n   Amount made = Eggs left * Price per egg\\n   Amount made = 9 * $2\\n   Amount made = $18\\n\\nTherefore, Janet makes $18 every day at the farmers' market.\""
      ]
     },
     "execution_count": 32,
     "metadata": {},
     "output_type": "execute_result"
    }
   ],
   "execution_count": 32
  },
  {
   "metadata": {
    "ExecuteTime": {
     "end_time": "2025-01-21T12:13:15.403950Z",
     "start_time": "2025-01-21T12:13:15.397306Z"
    }
   },
   "cell_type": "code",
   "source": "baseline_dataset[0][\"question\"]",
   "id": "87ece965233f60a2",
   "outputs": [
    {
     "data": {
      "text/plain": [
       "\"Janet’s ducks lay 16 eggs per day. She eats three for breakfast every morning and bakes muffins for her friends every day with four. She sells the remainder at the farmers' market daily for $2 per fresh duck egg. How much in dollars does she make every day at the farmers' market?\""
      ]
     },
     "execution_count": 69,
     "metadata": {},
     "output_type": "execute_result"
    }
   ],
   "execution_count": 69
  },
  {
   "metadata": {
    "ExecuteTime": {
     "end_time": "2025-01-21T10:44:45.743445Z",
     "start_time": "2025-01-21T10:44:45.742245Z"
    }
   },
   "cell_type": "code",
   "source": "",
   "id": "425570df70200025",
   "outputs": [],
   "execution_count": null
  }
 ],
 "metadata": {
  "kernelspec": {
   "display_name": "Python 3",
   "language": "python",
   "name": "python3"
  },
  "language_info": {
   "codemirror_mode": {
    "name": "ipython",
    "version": 2
   },
   "file_extension": ".py",
   "mimetype": "text/x-python",
   "name": "python",
   "nbconvert_exporter": "python",
   "pygments_lexer": "ipython2",
   "version": "2.7.6"
  }
 },
 "nbformat": 4,
 "nbformat_minor": 5
}
