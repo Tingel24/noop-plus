{
 "cells": [
  {
   "metadata": {
    "ExecuteTime": {
     "end_time": "2025-01-20T12:23:33.174670Z",
     "start_time": "2025-01-20T12:23:31.491919Z"
    }
   },
   "cell_type": "code",
   "source": [
    "import os.path\n",
    "\n",
    "from datasets import load_dataset, load_from_disk\n",
    "from dotenv import load_dotenv\n",
    "from typing_extensions import override\n",
    "\n",
    "load_dotenv(\"../.env\")\n",
    "# Load GSM8k Dataset\n",
    "dataset_name = \"LFrancis/GSM8k-NoOp-Plus\"\n",
    "baseline_dataset_name = \"openai/gsm8k\"\n",
    "subset = \"main_lexicon\"\n",
    "dataset = load_dataset(dataset_name, subset)[\"train\"]\n",
    "\n",
    "# VLLM API Configuration\n",
    "BASE_URL = \"http://134.76.18.30:8081/v1/chat/completions\"\n",
    "HEADERS = {\"Content-Type\": \"application/json\", \"Authorization\": \"Bearer \"+os.getenv(\"VLLM_API_KEY\")}\n",
    "MODEL_NAME = \"meta-llama/Llama-3.1-8B-Instruct\"\n",
    "EVALUATED_MODEL_PATH = dataset_name+\"_\"+subset + \"_evaluated_\" + MODEL_NAME\n",
    "BASELINE_MODEL_PATH = baseline_dataset_name + \"_evaluated_\" + MODEL_NAME\n",
    "if not os.path.exists(EVALUATED_MODEL_PATH):\n",
    "    dataset.save_to_disk(EVALUATED_MODEL_PATH)\n",
    "if not os.path.exists(BASELINE_MODEL_PATH):\n",
    "    baseline_dataset = load_dataset(baseline_dataset_name, subset)[\"test\"]\n",
    "    baseline_dataset.save_to_disk(BASELINE_MODEL_PATH)"
   ],
   "id": "62b73412d8b897a7",
   "outputs": [
    {
     "data": {
      "text/plain": [
       "Saving the dataset (0/1 shards):   0%|          | 0/1319 [00:00<?, ? examples/s]"
      ],
      "application/vnd.jupyter.widget-view+json": {
       "version_major": 2,
       "version_minor": 0,
       "model_id": "b90e61237fa34fbbbc36f00aa57bba69"
      }
     },
     "metadata": {},
     "output_type": "display_data"
    }
   ],
   "execution_count": 22
  },
  {
   "metadata": {
    "ExecuteTime": {
     "end_time": "2025-01-20T12:23:35.353515Z",
     "start_time": "2025-01-20T12:23:35.344609Z"
    }
   },
   "cell_type": "code",
   "source": [
    "from datasets import Dataset\n",
    "import requests\n",
    "\n",
    "\n",
    "# Helper Functions\n",
    "def create_chat_messages(question, sys_msg):\n",
    "    \"\"\"\n",
    "    Create a formatted list of chat messages for the chat model.\n",
    "    \"\"\"\n",
    "    user_prompt = f\"{question}\\n\" + \"\\nCalculations:\"\n",
    "    return [\n",
    "        {\"role\": \"system\", \"content\": sys_msg},\n",
    "        {\"role\": \"user\", \"content\": user_prompt}\n",
    "    ]\n",
    "\n",
    "\n",
    "def query_vllm_api(payload):\n",
    "    \"\"\"\n",
    "    Send a query to the VLLM API and return the response.\n",
    "    \"\"\"\n",
    "    response = requests.post(BASE_URL, json=payload, headers=HEADERS, timeout=120)\n",
    "    response.raise_for_status()  # Raise an error for HTTP issues\n",
    "    return response.json()\n",
    "\n",
    "\n",
    "def evaluate_question(entry):\n",
    "    # Step 1: Generate reasoning (CoT) response\n",
    "    sys_msg = \"The following are gradeschool math questions. Think step by step and answer with a single number when prompted for a final answer. The final answer cannot include anything other than a single number, please do not include any additional calculations, clarifications or units.\\nRemember: Always answer in the format '#### [number]'.\"\n",
    "    question = entry[\"question\"]\n",
    "    messages = create_chat_messages(question, sys_msg)\n",
    "\n",
    "    cot_payload = {\n",
    "        \"model\": MODEL_NAME,\n",
    "        \"messages\": messages,\n",
    "        \"max_tokens\": 200,\n",
    "        \"temperature\": 0.0,\n",
    "    }\n",
    "\n",
    "    cot_response = query_vllm_api(cot_payload)\n",
    "    if \"object\" in cot_response.keys() and cot_response[\"object\"] == \"error\":\n",
    "        raise Exception(cot_response[\"message\"])\n",
    "\n",
    "    cot_text = cot_response[\"choices\"][0][\"message\"][\"content\"].strip()  # Extract CoT reasoning\n",
    "\n",
    "    # Step 2: Calculate logprobs for each choice\n",
    "    final_prompt = \"(Answer with a single number, starting after ####. Do not include anything other than #### followed by the number.) Final Answer: \"\n",
    "    choice_messages = [\n",
    "        *messages,\n",
    "        {\"role\": \"system\", \"content\": cot_text},\n",
    "        {\"role\": \"user\", \"content\": final_prompt}\n",
    "    ]\n",
    "    final_payload = {\n",
    "            \"model\": MODEL_NAME,\n",
    "            \"messages\": choice_messages,\n",
    "            \"max_tokens\": 10,\n",
    "            \"temperature\": 0.0,\n",
    "            \"stop\": [\"\\n\"],\n",
    "        }\n",
    "    final_response = query_vllm_api(final_payload)\n",
    "    gen_answer = final_response[\"choices\"][0][\"message\"][\"content\"].strip()\n",
    "    gen_answer = extract_answer(gen_answer)\n",
    "    entry[\"generated_answer\"] = gen_answer\n",
    "    entry[\"generated_cot\"] = cot_text\n",
    "    return entry\n",
    "\n",
    "\n",
    "def extract_answer(gen_answer):\n",
    "    answer = gen_answer.split(\"#### \")\n",
    "    if len(answer) != 2:\n",
    "        if answer[0].strip().isnumeric():\n",
    "            # Recover answer even though answer is formatted wrong\n",
    "            return answer[0].strip()\n",
    "        raise Exception(f\"{gen_answer} is not a valid answer.\")\n",
    "    return answer[1].strip()\n",
    "\n",
    "\n",
    "def is_correct(entry):\n",
    "    \"\"\"\n",
    "    Determines if the choice with the lowest log probability corresponds to the correct answer.\n",
    "\n",
    "    Args:\n",
    "        entry (dict): A dictionary containing the question, choices, answer index, and logprobs.\n",
    "\n",
    "    Returns:\n",
    "        bool: True if the option with the lowest logprob matches the correct answer index, False otherwise.\n",
    "    \"\"\"\n",
    "    # Extract logprobs and the correct answer index\n",
    "    gen_answer = entry['generated_answer']\n",
    "    if gen_answer is None:\n",
    "        return False\n",
    "    answer = extract_answer(entry['answer'])\n",
    "\n",
    "    return answer == gen_answer\n",
    "\n",
    "\n",
    "def process_dataset(dataset: Dataset, numproc=1):\n",
    "    \"\"\"\n",
    "    Process the dataset using Dataset.map.\n",
    "    \"\"\"\n",
    "\n",
    "    def process_entry(entry):\n",
    "        if \"generated_answer\" in entry.keys() and entry[\"generated_answer\"] is not None:\n",
    "            return entry\n",
    "        try:\n",
    "            return evaluate_question(entry)\n",
    "        except Exception as e:\n",
    "            print(f\"Error processing entry: {entry}, Exception: {e}\")\n",
    "            entry[\"generated_answer\"] = None\n",
    "            entry[\"generated_cot\"] = None\n",
    "            return entry\n",
    "    return dataset.map(process_entry, with_indices=False, num_proc=numproc)"
   ],
   "id": "c60fc0802c475748",
   "outputs": [],
   "execution_count": 23
  },
  {
   "metadata": {
    "ExecuteTime": {
     "end_time": "2025-01-20T12:23:35.630724Z",
     "start_time": "2025-01-20T12:23:35.626621Z"
    }
   },
   "cell_type": "code",
   "source": [
    "def update_dataset(dataset, is_baseline = False):\n",
    "    # Save the updated dataset to a temporary location\n",
    "    temp_path = \"temp\"\n",
    "    dataset.save_to_disk(temp_path)\n",
    "\n",
    "    # Overwrite the original dataset directory\n",
    "    import shutil\n",
    "    original_path = EVALUATED_MODEL_PATH if is_baseline == False else BASELINE_MODEL_PATH\n",
    "\n",
    "    # Remove the old dataset and replace it with the new one\n",
    "    shutil.rmtree(original_path)  # Remove the old dataset directory\n",
    "    shutil.move(temp_path, original_path)"
   ],
   "id": "e0ee2b6c396f28dd",
   "outputs": [],
   "execution_count": 24
  },
  {
   "metadata": {
    "ExecuteTime": {
     "end_time": "2025-01-20T12:24:52.966720Z",
     "start_time": "2025-01-20T12:23:42.789990Z"
    }
   },
   "cell_type": "code",
   "source": [
    "def main(is_continue = False, is_baseline=False, numproc=1):\n",
    "    \"\"\"\n",
    "    Main function to evaluate the dataset asynchronously.\n",
    "    \"\"\"\n",
    "    if is_baseline:\n",
    "        selected_dataset = load_from_disk(BASELINE_MODEL_PATH)\n",
    "    elif is_continue:\n",
    "        selected_dataset = load_from_disk(EVALUATED_MODEL_PATH)\n",
    "    else:\n",
    "        selected_dataset = dataset\n",
    "    # Process the dataset asynchronously\n",
    "    processed_dataset = process_dataset(selected_dataset, numproc)\n",
    "\n",
    "    # Save the updated dataset\n",
    "    update_dataset(processed_dataset, is_baseline)\n",
    "# Run the script\n",
    "main(True, False, 100)"
   ],
   "id": "6c05b4e127512852",
   "outputs": [
    {
     "data": {
      "text/plain": [
       "Map (num_proc=100):   0%|          | 0/1319 [00:00<?, ? examples/s]"
      ],
      "application/vnd.jupyter.widget-view+json": {
       "version_major": 2,
       "version_minor": 0,
       "model_id": "b3b738cb381f4981ad933832e88a24fc"
      }
     },
     "metadata": {},
     "output_type": "display_data"
    },
    {
     "name": "stdout",
     "output_type": "stream",
     "text": [
      "Error processing entry: {'question': 'Together, Sofie, Anne, and Fawn have 85 books. If Sofie has 25 than books than Anne, and Anne has 12 fewer books than Fawn does, how several books does Fawn have?', 'answer': 'Let x = the number of books Anne has.\\nThen x + 25 + x + 12 + x = 85\\n3x + 37 = 85\\n3x = 48\\nx = 48 / 3 = <<48/3=16>>16 books\\nAnne has 12 fewer books than Fawn, so Fawn has 16 + 12 = 28 books.\\n#### 28'}, Exception: 2F - 24 + F + 25 is not a valid answer.\n",
      "Error processing entry: {'question': \"The average age of Peter, Paul and Jean is 100 years combined. Find the age of Peter knowing that Paul is 10 years elder than John and that Peter’s age is equivalent to the sum of Paul and John's age.\", 'answer': 'Let x be the age of John. Paul’s age is x + 10\\nPeter’s age is x + (x + 10) = 2x + 10\\nWe have (2x + 10) + (x + 1) + x = 100\\nCombining like terms, we get 4x + 20 = 100\\nSubtracting 20 from both sides and dividing by 4, we get x = 80/4 = 20 years old.\\nJohn is 20 years old, Paul is 20 + 10 = 30 years old, and Peter is 2 * 20 + 10 = 50 years old.\\n#### 50'}, Exception: 4J + 20 = 300 is not a valid answer.\n"
     ]
    },
    {
     "data": {
      "text/plain": [
       "Saving the dataset (0/1 shards):   0%|          | 0/1319 [00:00<?, ? examples/s]"
      ],
      "application/vnd.jupyter.widget-view+json": {
       "version_major": 2,
       "version_minor": 0,
       "model_id": "be2ab896b2c94d9aae19664fd568db03"
      }
     },
     "metadata": {},
     "output_type": "display_data"
    }
   ],
   "execution_count": 26
  },
  {
   "metadata": {
    "ExecuteTime": {
     "end_time": "2025-01-20T12:31:21.918101Z",
     "start_time": "2025-01-20T12:31:21.908350Z"
    }
   },
   "cell_type": "code",
   "source": [
    "import json\n",
    "\n",
    "\n",
    "def save_value_to_json(label, value, file_path=\"results.json\"):\n",
    "    # Check if the JSON file exists\n",
    "    if os.path.exists(file_path):\n",
    "        # Read the existing JSON content\n",
    "        with open(file_path, \"r\") as file:\n",
    "            data = json.load(file)\n",
    "    else:\n",
    "        # Create a new dictionary if the file doesn't exist\n",
    "        data = {\"scores\":{}, \"model\": MODEL_NAME}\n",
    "\n",
    "    # Update the dictionary with the new key-value pair\n",
    "    data[\"scores\"][label] = value\n",
    "\n",
    "    # Write the updated dictionary back to the JSON file\n",
    "    with open(file_path, \"w\") as file:\n",
    "        json.dump(data, file, indent=4)"
   ],
   "id": "43fc59fbd5bc68f9",
   "outputs": [],
   "execution_count": 27
  },
  {
   "metadata": {
    "ExecuteTime": {
     "end_time": "2025-01-20T12:31:23.210237Z",
     "start_time": "2025-01-20T12:31:23.020746Z"
    }
   },
   "cell_type": "code",
   "source": [
    "for subset in [ \"addition\", \"lexicon\", \"syntax\", \"\",\"naive\"]:\n",
    "    if subset == \"\":\n",
    "        EVALUATED_MODEL_PATH = dataset_name+\"_main\"+ \"_evaluated_\" + MODEL_NAME\n",
    "        subset=\"our_baseline\"\n",
    "    else:\n",
    "        EVALUATED_MODEL_PATH = dataset_name+\"_main_\"+subset + \"_evaluated_\" + MODEL_NAME\n",
    "    if os.path.exists(EVALUATED_MODEL_PATH):\n",
    "        selected_dataset = load_from_disk(EVALUATED_MODEL_PATH)\n",
    "        print(selected_dataset)\n",
    "        score = [is_correct(result) for result in selected_dataset]\n",
    "        score = sum(score) / len(score)\n",
    "        save_value_to_json(subset, score)\n",
    "        print(subset,\"accuracy\", score)\n",
    "    else:\n",
    "        print(\"skipping\", EVALUATED_MODEL_PATH)"
   ],
   "id": "d6511a8a3f86cbc0",
   "outputs": [
    {
     "name": "stdout",
     "output_type": "stream",
     "text": [
      "Dataset({\n",
      "    features: ['question', 'answer', 'generated_answer', 'generated_cot'],\n",
      "    num_rows: 1319\n",
      "})\n",
      "addition accuracy 0.7733131159969674\n",
      "Dataset({\n",
      "    features: ['question', 'answer', 'generated_answer', 'generated_cot'],\n",
      "    num_rows: 1319\n",
      "})\n",
      "lexicon accuracy 0.6671721000758151\n",
      "Dataset({\n",
      "    features: ['question', 'answer', 'generated_answer', 'generated_cot'],\n",
      "    num_rows: 1319\n",
      "})\n",
      "syntax accuracy 0.7338893100833965\n",
      "Dataset({\n",
      "    features: ['question', 'answer', 'generated_answer', 'generated_cot'],\n",
      "    num_rows: 1319\n",
      "})\n",
      "our_baseline accuracy 0.7884761182714177\n",
      "Dataset({\n",
      "    features: ['question', 'answer', 'generated_answer', 'generated_cot'],\n",
      "    num_rows: 1319\n",
      "})\n",
      "naive accuracy 0.7740712661106899\n"
     ]
    }
   ],
   "execution_count": 28
  },
  {
   "metadata": {
    "ExecuteTime": {
     "end_time": "2025-01-13T12:11:32.851507Z",
     "start_time": "2025-01-13T12:11:32.801386Z"
    }
   },
   "cell_type": "code",
   "source": [
    "baseline_dataset = load_from_disk(BASELINE_MODEL_PATH)\n",
    "score = [is_correct(result) for result in baseline_dataset]\n",
    "score = sum(score) / len(score)\n",
    "save_value_to_json(\"baseline\", score)\n",
    "print(\"Baseline Accuracy\", score)"
   ],
   "id": "57d06cdc2ef4c6ad",
   "outputs": [
    {
     "name": "stdout",
     "output_type": "stream",
     "text": [
      "Baseline Accuracy 0.7816527672479151\n"
     ]
    }
   ],
   "execution_count": 11
  },
  {
   "metadata": {
    "ExecuteTime": {
     "end_time": "2025-01-06T15:50:50.749983Z",
     "start_time": "2025-01-06T15:50:50.728282Z"
    }
   },
   "cell_type": "code",
   "source": "selected_dataset[0][\"question\"]",
   "id": "47d01683370245ab",
   "outputs": [
    {
     "data": {
      "text/plain": [
       "\"Janet’s ducks lay 16 eggs per day. She eats three for breakfast every morning and bakes muffins for her friends every day with four. She sells the remainder at the farmers' market daily for $2 per fresh duck egg. How much in dollars does she make every day at the farmers' market? Janet's love for environmental conservation is also evident in her extensive collection of exotic bird species in her backyard.\""
      ]
     },
     "execution_count": 100,
     "metadata": {},
     "output_type": "execute_result"
    }
   ],
   "execution_count": 100
  },
  {
   "metadata": {
    "ExecuteTime": {
     "end_time": "2025-01-06T15:51:07.928482Z",
     "start_time": "2025-01-06T15:51:07.916314Z"
    }
   },
   "cell_type": "code",
   "source": "baseline_dataset[0][\"question\"]",
   "id": "87ece965233f60a2",
   "outputs": [
    {
     "data": {
      "text/plain": [
       "\"Janet’s ducks lay 16 eggs per day. She eats three for breakfast every morning and bakes muffins for her friends every day with four. She sells the remainder at the farmers' market daily for $2 per fresh duck egg. How much in dollars does she make every day at the farmers' market?\""
      ]
     },
     "execution_count": 101,
     "metadata": {},
     "output_type": "execute_result"
    }
   ],
   "execution_count": 101
  },
  {
   "metadata": {},
   "cell_type": "code",
   "outputs": [],
   "execution_count": null,
   "source": "",
   "id": "425570df70200025"
  }
 ],
 "metadata": {
  "kernelspec": {
   "display_name": "Python 3",
   "language": "python",
   "name": "python3"
  },
  "language_info": {
   "codemirror_mode": {
    "name": "ipython",
    "version": 2
   },
   "file_extension": ".py",
   "mimetype": "text/x-python",
   "name": "python",
   "nbconvert_exporter": "python",
   "pygments_lexer": "ipython2",
   "version": "2.7.6"
  }
 },
 "nbformat": 4,
 "nbformat_minor": 5
}
