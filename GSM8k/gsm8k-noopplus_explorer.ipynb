{
 "cells": [
  {
   "metadata": {
    "ExecuteTime": {
     "end_time": "2025-01-20T14:06:28.278501Z",
     "start_time": "2025-01-20T14:06:28.236276Z"
    }
   },
   "cell_type": "code",
   "source": [
    "import difflib\n",
    "from typing import List, Tuple\n",
    "import os"
   ],
   "id": "2557279040981ab2",
   "outputs": [],
   "execution_count": 388
  },
  {
   "metadata": {
    "ExecuteTime": {
     "end_time": "2025-01-20T14:06:30.605656Z",
     "start_time": "2025-01-20T14:06:28.287058Z"
    }
   },
   "cell_type": "code",
   "source": [
    "from selenium import webdriver\n",
    "from selenium.webdriver.common.by import By\n",
    "\n",
    "# browser setup\n",
    "browser = webdriver.Chrome()\n",
    "browser.implicitly_wait(10)\n"
   ],
   "id": "342aa19cb14d4cf",
   "outputs": [],
   "execution_count": 389
  },
  {
   "metadata": {
    "ExecuteTime": {
     "end_time": "2025-01-20T14:06:30.837048Z",
     "start_time": "2025-01-20T14:06:30.792607Z"
    }
   },
   "cell_type": "code",
   "source": [
    "\n",
    "\n",
    "def save_and_open_difference_table(baseline: str, permutations: List[Tuple[str, str]]) -> None:\n",
    "    # Create HtmlDiff Object\n",
    "    my_html = difflib.HtmlDiff()\n",
    "\n",
    "    # Generate tables with problematic data\n",
    "    deltas = [my_html.make_table(\n",
    "         [thing],[baseline],  label,\"Baseline\",\n",
    "    ) for label, thing in permutations]\n",
    "\n",
    "    # Combine the header and all tables into one HTML document\n",
    "    full_html = \"\"\"<!DOCTYPE html><html><head>\n",
    "    <title>NooP+ Difference Table</title>\n",
    "    <style>\n",
    "    table.diff {\n",
    "        width: 100%;\n",
    "        table-layout: fixed;\n",
    "        margin-bottom: 20px; /* Add space between tables */\n",
    "        border-spacing: 0; /* Remove default spacing */\n",
    "    }\n",
    "    td, th {\n",
    "        word-wrap: break-word;\n",
    "        overflow-wrap: break-word;\n",
    "        white-space: normal;\n",
    "        font-size: 16px; /* Increase font size */\n",
    "        padding: 8px; /* Add padding inside cells */\n",
    "    }\n",
    "    td.diff_next, th.diff_next {\n",
    "        display: none; /* Hide columns with \"t\" */\n",
    "    }\n",
    "    td.diff_header, th.diff_header {\n",
    "        display: none; /* Hide columns with \"1\" */\n",
    "    }\n",
    "    colgroup:nth-child(1),\n",
    "    colgroup:nth-child(2),\n",
    "    colgroup:nth-child(3),\n",
    "    colgroup:nth-child(4) {\n",
    "        display: none; /* Hide unnecessary colgroups */\n",
    "    }\n",
    "\n",
    "    /* Colors for diff classes */\n",
    "    .diff_add {\n",
    "        background-color: #d4edda; /* Light green background */\n",
    "        color: #155724; /* Dark green text */\n",
    "    }\n",
    "    .diff_chg {\n",
    "        background-color: #fff3cd; /* Light yellow background */\n",
    "        color: #856404; /* Dark yellow (brownish) text */\n",
    "    }\n",
    "    .diff_sub {\n",
    "        background-color: #f8d7da; /* Light red background */\n",
    "        color: #721c24; /* Dark red text */\n",
    "    }\n",
    "\n",
    "    /* Optional: Add hover effect for better usability */\n",
    "    td.diff_add:hover, td.diff_chg:hover, td.diff_sub:hover {\n",
    "        filter: brightness(90%); /* Slightly darken on hover */\n",
    "    }\n",
    "</style>\n",
    "\n",
    "\n",
    "\n",
    "\n",
    "    </head><body>\n",
    "    \"\"\"\n",
    "    for delta in deltas:\n",
    "        full_html += delta\n",
    "    full_html += \"</body></html>\"\n",
    "\n",
    "    # Save the HTML content to a file\n",
    "    file_path = \"difference_table.html\"\n",
    "    with open(file_path, \"w\", encoding=\"utf-8\") as file:\n",
    "        file.write(full_html)\n",
    "\n",
    "    # Open the saved HTML file in the default web browser\n",
    "    browser.get(f\"file://{os.path.abspath(file_path)}\")"
   ],
   "id": "b8026ac419458adf",
   "outputs": [],
   "execution_count": 390
  },
  {
   "metadata": {
    "ExecuteTime": {
     "end_time": "2025-01-20T14:06:31.446146Z",
     "start_time": "2025-01-20T14:06:30.955084Z"
    }
   },
   "cell_type": "code",
   "source": [
    "from datasets import load_from_disk\n",
    "import pandas as pd\n",
    "subsets = [\"naive\", \"addition\", \"lexicon\", \"syntax\"]\n",
    "dataset_name = \"LFrancis/GSM8k-NoOp-Plus\"\n",
    "MODEL_NAME = \"meta-llama/Llama-3.1-8B-Instruct\"\n",
    "\n",
    "baseline_path = dataset_name+\"_main_evaluated_\" + MODEL_NAME\n",
    "baseline_df = pd.DataFrame( load_from_disk(baseline_path))\n",
    "\n",
    "question_column = \"question\"\n",
    "\n",
    "datasets = []\n",
    "for subset in subsets:\n",
    "    path = dataset_name+\"_main_\"+subset + \"_evaluated_\" + MODEL_NAME\n",
    "    datasets.append(pd.DataFrame(load_from_disk(path)))"
   ],
   "id": "a848a71d5f8b46f9",
   "outputs": [],
   "execution_count": 391
  },
  {
   "metadata": {
    "ExecuteTime": {
     "end_time": "2025-01-20T14:06:32.219965Z",
     "start_time": "2025-01-20T14:06:32.147246Z"
    }
   },
   "cell_type": "code",
   "source": [
    "import random\n",
    "\n",
    "# Randomly sample a row index\n",
    "random_index = random.randint(0, len(baseline_df) - 1)\n",
    "\n",
    "# Extract the text questions for the random index from each dataset\n",
    "rows = [df.iloc[random_index][question_column] for df in datasets]\n",
    "rows = list(zip(subsets, rows))\n",
    "baseline_row = baseline_df.iloc[random_index][question_column]\n",
    "save_and_open_difference_table(baseline_row, rows)\n"
   ],
   "id": "b920ad9a2bb7d68d",
   "outputs": [],
   "execution_count": 392
  }
 ],
 "metadata": {
  "kernelspec": {
   "display_name": "Python 3",
   "language": "python",
   "name": "python3"
  },
  "language_info": {
   "codemirror_mode": {
    "name": "ipython",
    "version": 2
   },
   "file_extension": ".py",
   "mimetype": "text/x-python",
   "name": "python",
   "nbconvert_exporter": "python",
   "pygments_lexer": "ipython2",
   "version": "2.7.6"
  }
 },
 "nbformat": 4,
 "nbformat_minor": 5
}
