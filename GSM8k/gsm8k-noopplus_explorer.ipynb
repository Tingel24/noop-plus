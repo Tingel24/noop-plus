{
 "cells": [
  {
   "metadata": {
    "ExecuteTime": {
     "end_time": "2025-01-13T12:51:50.064746Z",
     "start_time": "2025-01-13T12:51:50.054071Z"
    }
   },
   "cell_type": "code",
   "source": [
    "from typing import List, Tuple\n",
    "import difflib\n",
    "\n",
    "def print_difference_table(baseline: str, permutations: List[Tuple[str, str]]) -> None:\n",
    "    # create HtmlDiff Object\n",
    "    my_html = difflib.HtmlDiff()\n",
    "\n",
    "    # make table with problematic data, delta1 is a string\n",
    "    deltas = [my_html.make_table(\n",
    "        [baseline], [thing], \"Baseline\" , label,\n",
    "    ) for  label,thing in permutations]\n",
    "\n",
    "    html_header = '''\n",
    "    <head>\n",
    "        <meta http-equiv=\"Content-Type\"\n",
    "              content=\"text/html; charset=utf-8\" />\n",
    "        <title></title>\n",
    "        <style type=\"text/css\">\n",
    "            td.diff_header {text-align:left}\n",
    "            .diff_add {background-color:#aaffaa}\n",
    "            .diff_chg {background-color:#ffff77}\n",
    "            .diff_sub {background-color:#ffaaaa}\n",
    "            .widthA{width:1%}\n",
    "            .widthB{width:7%}\n",
    "            .widthC{width:40%}\n",
    "            .element_title{color: black; text-align:center}\n",
    "            .element_diff{color: black; width: 96%; margin-left: auto; margin-right: auto}\n",
    "        </style>\n",
    "    </head>\n",
    "\n",
    "    '''\n",
    "\n",
    "    from IPython.display import display, HTML\n",
    "    display(HTML(html_header))\n",
    "    for delta in deltas:\n",
    "        display(HTML(delta))"
   ],
   "id": "b8026ac419458adf",
   "outputs": [],
   "execution_count": 56
  },
  {
   "metadata": {},
   "cell_type": "code",
   "outputs": [],
   "execution_count": null,
   "source": "",
   "id": "a0f069f78b74cf26"
  },
  {
   "metadata": {
    "ExecuteTime": {
     "end_time": "2025-01-13T12:58:17.638905Z",
     "start_time": "2025-01-13T12:58:17.496641Z"
    }
   },
   "cell_type": "code",
   "source": [
    "from datasets import load_dataset, load_from_disk\n",
    "import pandas as pd\n",
    "subsets = [\"naive\", \"addition\", \"lexicon\", \"syntax\"]\n",
    "dataset_name = \"LFrancis/GSM8k-NoOp-Plus\"\n",
    "MODEL_NAME = \"meta-llama/Llama-3.1-8B-Instruct\"\n",
    "\n",
    "baseline_path = dataset_name+\"_main_evaluated_\" + MODEL_NAME\n",
    "baseline_df = pd.DataFrame( load_from_disk(baseline_path))\n",
    "\n",
    "question_column = \"question\"\n",
    "\n",
    "datasets = []\n",
    "for subset in subsets:\n",
    "    path = dataset_name+\"_main_\"+subset + \"_evaluated_\" + MODEL_NAME\n",
    "    datasets.append(pd.DataFrame(load_from_disk(path)))"
   ],
   "id": "a848a71d5f8b46f9",
   "outputs": [],
   "execution_count": 64
  },
  {
   "metadata": {
    "ExecuteTime": {
     "end_time": "2025-01-13T13:01:34.520977Z",
     "start_time": "2025-01-13T13:01:34.503671Z"
    }
   },
   "cell_type": "code",
   "source": [
    "import random\n",
    "\n",
    "# Randomly sample a row index\n",
    "random_index = random.randint(0, len(baseline_df) - 1)\n",
    "\n",
    "# Extract the text questions for the random index from each dataset\n",
    "rows = [df.iloc[random_index][question_column] for df in datasets]\n",
    "rows = list(zip(subsets, rows))\n",
    "baseline_row = baseline_df.iloc[random_index][question_column]\n",
    "print_difference_table(baseline_row, rows)\n"
   ],
   "id": "b920ad9a2bb7d68d",
   "outputs": [
    {
     "data": {
      "text/plain": [
       "<IPython.core.display.HTML object>"
      ],
      "text/html": [
       "\n",
       "    <head>\n",
       "        <meta http-equiv=\"Content-Type\"\n",
       "              content=\"text/html; charset=utf-8\" />\n",
       "        <title></title>\n",
       "        <style type=\"text/css\">\n",
       "            td.diff_header {text-align:left}\n",
       "            .diff_add {background-color:#aaffaa}\n",
       "            .diff_chg {background-color:#ffff77}\n",
       "            .diff_sub {background-color:#ffaaaa}\n",
       "            .widthA{width:1%}\n",
       "            .widthB{width:7%}\n",
       "            .widthC{width:40%}\n",
       "            .element_title{color: black; text-align:center}\n",
       "            .element_diff{color: black; width: 96%; margin-left: auto; margin-right: auto}\n",
       "        </style>\n",
       "    </head>\n",
       "\n",
       "    "
      ]
     },
     "metadata": {},
     "output_type": "display_data"
    },
    {
     "data": {
      "text/plain": [
       "<IPython.core.display.HTML object>"
      ],
      "text/html": [
       "\n",
       "    <table class=\"diff\" id=\"difflib_chg_to87__top\"\n",
       "           cellspacing=\"0\" cellpadding=\"0\" rules=\"groups\" >\n",
       "        <colgroup></colgroup> <colgroup></colgroup> <colgroup></colgroup>\n",
       "        <colgroup></colgroup> <colgroup></colgroup> <colgroup></colgroup>\n",
       "        <thead><tr><th class=\"diff_next\"><br /></th><th colspan=\"2\" class=\"diff_header\">Baseline</th><th class=\"diff_next\"><br /></th><th colspan=\"2\" class=\"diff_header\">naive</th></tr></thead>\n",
       "        <tbody>\n",
       "            <tr><td class=\"diff_next\" id=\"difflib_chg_to87__0\"><a href=\"#difflib_chg_to87__top\">t</a></td><td class=\"diff_header\" id=\"from87_1\">1</td><td nowrap=\"nowrap\">Lindsay&nbsp;is&nbsp;doing&nbsp;the&nbsp;laundry,&nbsp;and&nbsp;thinks&nbsp;she&nbsp;has&nbsp;missed&nbsp;some&nbsp;socks.&nbsp;There&nbsp;are&nbsp;50&nbsp;socks&nbsp;that&nbsp;need&nbsp;washing.&nbsp;If&nbsp;she&nbsp;washes&nbsp;10&nbsp;pairs&nbsp;of&nbsp;socks&nbsp;and&nbsp;15&nbsp;loose&nbsp;socks,&nbsp;how&nbsp;many&nbsp;socks&nbsp;has&nbsp;Lindsay&nbsp;missed?</td><td class=\"diff_next\"><a href=\"#difflib_chg_to87__top\">t</a></td><td class=\"diff_header\" id=\"to87_1\">1</td><td nowrap=\"nowrap\">Lindsay&nbsp;is&nbsp;doing&nbsp;the&nbsp;laundry,&nbsp;and&nbsp;thinks&nbsp;she&nbsp;has&nbsp;missed&nbsp;some&nbsp;socks.&nbsp;There&nbsp;are&nbsp;50&nbsp;socks&nbsp;that&nbsp;need&nbsp;washing.&nbsp;If&nbsp;she&nbsp;washes&nbsp;10&nbsp;pairs&nbsp;of&nbsp;socks&nbsp;and&nbsp;15&nbsp;loose&nbsp;socks,&nbsp;how&nbsp;many&nbsp;socks&nbsp;has&nbsp;Lindsay&nbsp;missed?<span class=\"diff_add\">&nbsp;Sebastian&nbsp;goes&nbsp;to&nbsp;buy&nbsp;icecream.</span></td></tr>\n",
       "        </tbody>\n",
       "    </table>"
      ]
     },
     "metadata": {},
     "output_type": "display_data"
    },
    {
     "data": {
      "text/plain": [
       "<IPython.core.display.HTML object>"
      ],
      "text/html": [
       "\n",
       "    <table class=\"diff\" id=\"difflib_chg_to88__top\"\n",
       "           cellspacing=\"0\" cellpadding=\"0\" rules=\"groups\" >\n",
       "        <colgroup></colgroup> <colgroup></colgroup> <colgroup></colgroup>\n",
       "        <colgroup></colgroup> <colgroup></colgroup> <colgroup></colgroup>\n",
       "        <thead><tr><th class=\"diff_next\"><br /></th><th colspan=\"2\" class=\"diff_header\">Baseline</th><th class=\"diff_next\"><br /></th><th colspan=\"2\" class=\"diff_header\">addition</th></tr></thead>\n",
       "        <tbody>\n",
       "            <tr><td class=\"diff_next\" id=\"difflib_chg_to88__0\"><a href=\"#difflib_chg_to88__top\">t</a></td><td class=\"diff_header\" id=\"from88_1\">1</td><td nowrap=\"nowrap\"><span class=\"diff_sub\">Lindsay&nbsp;is&nbsp;doing&nbsp;the&nbsp;laundry,&nbsp;and&nbsp;thinks&nbsp;she&nbsp;has&nbsp;missed&nbsp;some&nbsp;socks.&nbsp;There&nbsp;are&nbsp;50&nbsp;socks&nbsp;that&nbsp;need&nbsp;washing.&nbsp;If&nbsp;she&nbsp;washes&nbsp;10&nbsp;pairs&nbsp;of&nbsp;socks&nbsp;and&nbsp;15&nbsp;loose&nbsp;socks,&nbsp;how&nbsp;many&nbsp;socks&nbsp;has&nbsp;Lindsay&nbsp;missed?</span></td><td class=\"diff_next\"><a href=\"#difflib_chg_to88__top\">t</a></td><td class=\"diff_header\" id=\"to88_1\">1</td><td nowrap=\"nowrap\"><span class=\"diff_add\">Lindsay&nbsp;is&nbsp;doing&nbsp;the&nbsp;laundry,&nbsp;and&nbsp;thinks&nbsp;she&nbsp;has&nbsp;missed&nbsp;some&nbsp;socks.&nbsp;There&nbsp;are&nbsp;50&nbsp;socks&nbsp;that&nbsp;need&nbsp;washing.&nbsp;If&nbsp;she&nbsp;washes&nbsp;10&nbsp;pairs&nbsp;of&nbsp;socks&nbsp;and&nbsp;15&nbsp;loose&nbsp;socks,&nbsp;how&nbsp;many&nbsp;socks&nbsp;has&nbsp;Lindsay&nbsp;missed?&nbsp;The&nbsp;concept&nbsp;of&nbsp;laundry&nbsp;management&nbsp;is&nbsp;also&nbsp;relevant&nbsp;to&nbsp;the&nbsp;field&nbsp;of&nbsp;textile&nbsp;engineering,&nbsp;which&nbsp;studies&nbsp;the&nbsp;properties&nbsp;and&nbsp;behaviors&nbsp;of&nbsp;fabrics&nbsp;in&nbsp;various&nbsp;contexts.</span></td></tr>\n",
       "        </tbody>\n",
       "    </table>"
      ]
     },
     "metadata": {},
     "output_type": "display_data"
    },
    {
     "data": {
      "text/plain": [
       "<IPython.core.display.HTML object>"
      ],
      "text/html": [
       "\n",
       "    <table class=\"diff\" id=\"difflib_chg_to89__top\"\n",
       "           cellspacing=\"0\" cellpadding=\"0\" rules=\"groups\" >\n",
       "        <colgroup></colgroup> <colgroup></colgroup> <colgroup></colgroup>\n",
       "        <colgroup></colgroup> <colgroup></colgroup> <colgroup></colgroup>\n",
       "        <thead><tr><th class=\"diff_next\"><br /></th><th colspan=\"2\" class=\"diff_header\">Baseline</th><th class=\"diff_next\"><br /></th><th colspan=\"2\" class=\"diff_header\">lexicon</th></tr></thead>\n",
       "        <tbody>\n",
       "            <tr><td class=\"diff_next\"><a href=\"#difflib_chg_to89__top\">t</a></td><td class=\"diff_header\" id=\"from89_1\">1</td><td nowrap=\"nowrap\">Lindsay&nbsp;is&nbsp;doing&nbsp;the&nbsp;laundry,&nbsp;and&nbsp;thinks&nbsp;she&nbsp;has&nbsp;missed&nbsp;some&nbsp;socks.&nbsp;There&nbsp;are&nbsp;50&nbsp;socks&nbsp;that&nbsp;need&nbsp;washing.&nbsp;If&nbsp;she&nbsp;washes&nbsp;10&nbsp;pairs&nbsp;of&nbsp;socks&nbsp;and&nbsp;15&nbsp;loose&nbsp;socks,&nbsp;how&nbsp;many&nbsp;socks&nbsp;has&nbsp;Lindsay&nbsp;missed?</td><td class=\"diff_next\"><a href=\"#difflib_chg_to89__top\">t</a></td><td class=\"diff_header\" id=\"to89_1\">1</td><td nowrap=\"nowrap\">Lindsay&nbsp;is&nbsp;doing&nbsp;the&nbsp;laundry,&nbsp;and&nbsp;thinks&nbsp;she&nbsp;has&nbsp;missed&nbsp;some&nbsp;socks.&nbsp;There&nbsp;are&nbsp;50&nbsp;socks&nbsp;that&nbsp;need&nbsp;washing.&nbsp;If&nbsp;she&nbsp;washes&nbsp;10&nbsp;pairs&nbsp;of&nbsp;socks&nbsp;and&nbsp;15&nbsp;loose&nbsp;socks,&nbsp;how&nbsp;many&nbsp;socks&nbsp;has&nbsp;Lindsay&nbsp;missed?</td></tr>\n",
       "        </tbody>\n",
       "    </table>"
      ]
     },
     "metadata": {},
     "output_type": "display_data"
    },
    {
     "data": {
      "text/plain": [
       "<IPython.core.display.HTML object>"
      ],
      "text/html": [
       "\n",
       "    <table class=\"diff\" id=\"difflib_chg_to90__top\"\n",
       "           cellspacing=\"0\" cellpadding=\"0\" rules=\"groups\" >\n",
       "        <colgroup></colgroup> <colgroup></colgroup> <colgroup></colgroup>\n",
       "        <colgroup></colgroup> <colgroup></colgroup> <colgroup></colgroup>\n",
       "        <thead><tr><th class=\"diff_next\"><br /></th><th colspan=\"2\" class=\"diff_header\">Baseline</th><th class=\"diff_next\"><br /></th><th colspan=\"2\" class=\"diff_header\">syntax</th></tr></thead>\n",
       "        <tbody>\n",
       "            <tr><td class=\"diff_next\" id=\"difflib_chg_to90__0\"><a href=\"#difflib_chg_to90__top\">t</a></td><td class=\"diff_header\" id=\"from90_1\">1</td><td nowrap=\"nowrap\">Lindsay&nbsp;is&nbsp;doing&nbsp;the&nbsp;laundry,&nbsp;and&nbsp;thinks&nbsp;she&nbsp;has&nbsp;missed&nbsp;some&nbsp;socks.<span class=\"diff_sub\">&nbsp;</span>There&nbsp;are&nbsp;50&nbsp;socks&nbsp;that&nbsp;need&nbsp;washing.<span class=\"diff_sub\">&nbsp;</span>If&nbsp;she&nbsp;washes&nbsp;10&nbsp;pairs&nbsp;of&nbsp;socks&nbsp;and&nbsp;15&nbsp;loose&nbsp;socks,&nbsp;how&nbsp;many&nbsp;socks&nbsp;has&nbsp;Lindsay&nbsp;missed?</td><td class=\"diff_next\"><a href=\"#difflib_chg_to90__top\">t</a></td><td class=\"diff_header\" id=\"to90_1\">1</td><td nowrap=\"nowrap\">Lindsay&nbsp;is&nbsp;doing&nbsp;the&nbsp;laundry,&nbsp;and&nbsp;thinks&nbsp;she&nbsp;has&nbsp;missed&nbsp;some&nbsp;socks.There&nbsp;are&nbsp;50&nbsp;socks&nbsp;that&nbsp;need&nbsp;washing.If&nbsp;she&nbsp;washes&nbsp;10&nbsp;pairs&nbsp;of&nbsp;socks&nbsp;and&nbsp;15&nbsp;loose&nbsp;socks,&nbsp;how&nbsp;many&nbsp;socks&nbsp;has&nbsp;Lindsay&nbsp;missed?</td></tr>\n",
       "        </tbody>\n",
       "    </table>"
      ]
     },
     "metadata": {},
     "output_type": "display_data"
    }
   ],
   "execution_count": 66
  },
  {
   "metadata": {},
   "cell_type": "code",
   "outputs": [],
   "execution_count": null,
   "source": "",
   "id": "3fa06040f0a4744d"
  }
 ],
 "metadata": {
  "kernelspec": {
   "display_name": "Python 3",
   "language": "python",
   "name": "python3"
  },
  "language_info": {
   "codemirror_mode": {
    "name": "ipython",
    "version": 2
   },
   "file_extension": ".py",
   "mimetype": "text/x-python",
   "name": "python",
   "nbconvert_exporter": "python",
   "pygments_lexer": "ipython2",
   "version": "2.7.6"
  }
 },
 "nbformat": 4,
 "nbformat_minor": 5
}
