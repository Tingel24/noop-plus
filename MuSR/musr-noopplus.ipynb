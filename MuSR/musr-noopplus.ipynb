{
 "cells": [
  {
   "metadata": {},
   "cell_type": "code",
   "source": [
    "# Setup model connection\n",
    "from dotenv import load_dotenv\n",
    "import os\n",
    "from openai import OpenAI\n",
    "\n",
    "from converter.converter import *\n",
    "\n",
    "load_dotenv(\"../.env\")\n",
    "client = OpenAI(\n",
    "    api_key=os.getenv(\"VLLM_API_KEY\"),\n",
    "    base_url=\"http://134.76.18.30:8085/v1\"\n",
    ")\n",
    "model = \"meta-llama/Llama-3.1-8B-Instruct\""
   ],
   "id": "8316c2d3bd2b4e74",
   "outputs": [],
   "execution_count": null
  },
  {
   "cell_type": "markdown",
   "source": [
    "## Load original dataset"
   ],
   "metadata": {
    "collapsed": false
   },
   "id": "1d57750e572255fe"
  },
  {
   "cell_type": "code",
   "id": "initial_id",
   "metadata": {
    "collapsed": true
   },
   "source": [
    "import pandas as pd\n",
    "from datasets import load_dataset, DatasetDict\n",
    "from tqdm import tqdm\n",
    "import spacy\n",
    "\n",
    "# Load spaCy for POS tagging\n",
    "nlp = spacy.load(\"en_core_web_sm\")\n",
    "tqdm.pandas()\n",
    "\n",
    "dataset = load_dataset(\"TAUR-Lab/MuSR\")\n",
    "modified_dataset_name = \"MuSR-NoOp-Plus\"\n",
    "\n",
    "hf_username = \"LFrancis\"\n",
    "repo_id = f\"{hf_username}/{modified_dataset_name}\"\n",
    "\n",
    "dataset_dict = DatasetDict(dataset)\n",
    "example_story = \"Once upon a time, there was a brave knight who fought dragons.\"\n",
    "dataset"
   ],
   "outputs": [],
   "execution_count": null
  },
  {
   "cell_type": "markdown",
   "source": [
    "## Paraphrase Type: Naive Addition"
   ],
   "metadata": {
    "collapsed": false
   },
   "id": "e2d4da176f5705ba"
  },
  {
   "metadata": {
    "collapsed": false
   },
   "cell_type": "code",
   "source": [
    "for subset in dataset.keys():\n",
    "    dataset_dict[subset + \"_naive\"] = convert_naive(pd.DataFrame(dataset[subset]),question_column=\"narrative\", subject_list_column=\"choices\")\n",
    "dataset_dict.keys()"
   ],
   "id": "5a6a869abf2d97c5",
   "outputs": [],
   "execution_count": null
  },
  {
   "metadata": {},
   "cell_type": "code",
   "source": "upload(dataset_dict, repo_id)",
   "id": "b7c4cb09b36bc9eb",
   "outputs": [],
   "execution_count": null
  },
  {
   "metadata": {},
   "cell_type": "markdown",
   "source": "## Paraphrase Type: Addition",
   "id": "6f70d4a9110a3bab"
  },
  {
   "metadata": {},
   "cell_type": "code",
   "source": "custom_preprompt = \"Give me one additional sentence to this story that has no direct effect on the storyline. The sentence should include one of the characters. Example additional sentences might focus on unnecessary details, add unnecessary information about one of the characters past or thoughts. Only output exactly only the additional sentence and nothing else, the output will be copy/pasted as is. It is extremely important that the sentence does not effect the storyline.\"",
   "id": "280023f311f0c678",
   "outputs": [],
   "execution_count": null
  },
  {
   "metadata": {},
   "cell_type": "code",
   "source": [
    "for subset in dataset.keys():\n",
    "    dataset_dict[subset + \"_addition\"] = convert_additional(pd.DataFrame(dataset[subset]), client, model, custom_preprompt=custom_preprompt, question_column=\"narrative\")\n",
    "dataset_dict.keys()"
   ],
   "id": "153c4cdf0b316da4",
   "outputs": [],
   "execution_count": null
  },
  {
   "metadata": {},
   "cell_type": "code",
   "source": "upload(dataset_dict, repo_id)",
   "id": "36d02759723e28e0",
   "outputs": [],
   "execution_count": null
  },
  {
   "metadata": {},
   "cell_type": "markdown",
   "source": "## Paraphrase Type: Lexicon-Changes\n",
   "id": "3af5f01884e9f923"
  },
  {
   "metadata": {},
   "cell_type": "code",
   "source": [
    "for subset in dataset.keys():\n",
    "    dataset_dict[subset + \"_lexicon\"] = convert_lexicon(pd.DataFrame(dataset[subset]), client, model, nlp, question_column=\"narrative\")\n",
    "dataset_dict.keys()"
   ],
   "id": "d0b5d00a4ba54e62",
   "outputs": [],
   "execution_count": null
  },
  {
   "metadata": {},
   "cell_type": "code",
   "source": "upload(dataset_dict, repo_id)",
   "id": "b58adeed585c7236",
   "outputs": [],
   "execution_count": null
  },
  {
   "metadata": {},
   "cell_type": "markdown",
   "source": "## Paraphrase Type: Syntax-Changes\n",
   "id": "9311a162e96e675"
  },
  {
   "metadata": {},
   "cell_type": "code",
   "source": [
    "for subset in dataset.keys():\n",
    "    dataset_dict[subset + \"_syntax\"] = convert_syntax(pd.DataFrame(dataset[subset]), nlp, question_column=\"narrative\")\n",
    "dataset_dict.keys()"
   ],
   "id": "5caeffa2a318920",
   "outputs": [],
   "execution_count": null
  },
  {
   "metadata": {},
   "cell_type": "code",
   "source": "upload(dataset_dict, repo_id)",
   "id": "72451ebc36e88bc0",
   "outputs": [],
   "execution_count": null
  }
 ],
 "metadata": {
  "kernelspec": {
   "display_name": "Python 3",
   "language": "python",
   "name": "python3"
  },
  "language_info": {
   "codemirror_mode": {
    "name": "ipython",
    "version": 2
   },
   "file_extension": ".py",
   "mimetype": "text/x-python",
   "name": "python",
   "nbconvert_exporter": "python",
   "pygments_lexer": "ipython2",
   "version": "2.7.6"
  }
 },
 "nbformat": 4,
 "nbformat_minor": 5
}
